{
 "cells": [
  {
   "cell_type": "markdown",
   "id": "c8ae6945-4b93-4eaf-b693-19e864a33eb4",
   "metadata": {},
   "source": [
    "# Spatial Data\n",
    "### in Python, using geopandas"
   ]
  },
  {
   "cell_type": "markdown",
   "id": "c40224c6-ea91-40fd-b96f-bd06b9a9fcac",
   "metadata": {},
   "source": [
    "introduction, import libraries"
   ]
  },
  {
   "cell_type": "code",
   "execution_count": 1,
   "id": "f1909ada-0c74-4b5b-9373-1a5afef9616c",
   "metadata": {},
   "outputs": [],
   "source": [
    "import pandas as pd\n",
    "import geopandas as gpd"
   ]
  },
  {
   "cell_type": "markdown",
   "id": "871e5c36-7529-4f56-a217-ead8b8c0cc05",
   "metadata": {},
   "source": [
    "review of key concepts: geodata types, crs, pandas vs geopandas"
   ]
  },
  {
   "cell_type": "markdown",
   "id": "24b07804-de62-402f-bf70-6e398fcf1e00",
   "metadata": {},
   "source": [
    "import today's datasets: TPL, toronto ridings, toronto regions"
   ]
  },
  {
   "cell_type": "markdown",
   "id": "aecd1f49-1b55-40d9-ad61-3ecbea7f3206",
   "metadata": {},
   "source": [
    "## Geocoding and Creating Geometries"
   ]
  },
  {
   "cell_type": "markdown",
   "id": "2f390851-d6e0-471c-9854-60bf9521ec28",
   "metadata": {},
   "source": [
    "### Geocoding Addresses"
   ]
  },
  {
   "cell_type": "markdown",
   "id": "eab4924d-453b-47b3-aa5d-40ec8874412f",
   "metadata": {},
   "source": [
    "TODO: what is geocoding? example with TPL"
   ]
  },
  {
   "cell_type": "code",
   "execution_count": null,
   "id": "3bb01b85-bb07-4e44-bab1-4a761cf938f6",
   "metadata": {},
   "outputs": [],
   "source": []
  },
  {
   "cell_type": "markdown",
   "id": "22590f85-c032-4de0-af32-b316ce965dc4",
   "metadata": {},
   "source": [
    "### Creating New Geometries"
   ]
  },
  {
   "cell_type": "markdown",
   "id": "2682b1bb-ded9-4b8e-a080-30a1f6505f31",
   "metadata": {},
   "source": [
    "area, centroid, buffer"
   ]
  },
  {
   "cell_type": "code",
   "execution_count": null,
   "id": "f00a4b0d-e67b-48f2-a304-64ecaf2aae15",
   "metadata": {},
   "outputs": [],
   "source": []
  },
  {
   "cell_type": "markdown",
   "id": "5b7f3701-22a6-4f7f-b3fe-28e51b13556d",
   "metadata": {},
   "source": [
    "exercise: Compute centroids and buffers for ridings."
   ]
  },
  {
   "cell_type": "markdown",
   "id": "2478e957-7ce6-4043-aab8-86febd3da0e2",
   "metadata": {},
   "source": [
    "## Spatial Relationships and Operations"
   ]
  },
  {
   "cell_type": "markdown",
   "id": "fd8b3114-61e5-4885-9732-7ea7940b6cb2",
   "metadata": {},
   "source": [
    "### Overlay Operations"
   ]
  },
  {
   "cell_type": "markdown",
   "id": "8b6de9ec-7fc0-4130-9e16-a27286bb3f40",
   "metadata": {},
   "source": [
    "Methods: gpd.overlay() with how=\"union\", \"intersection\", \"difference\", \"symmetric_difference\"\n",
    "\n",
    "Example: Ridings vs. Toronto subregions"
   ]
  },
  {
   "cell_type": "code",
   "execution_count": null,
   "id": "8836cb1b-3d91-494e-b064-c437bc91c67d",
   "metadata": {},
   "outputs": [],
   "source": []
  },
  {
   "cell_type": "markdown",
   "id": "1e845bce-584f-4a37-9610-399f360f78a9",
   "metadata": {},
   "source": [
    "### Spatial Selection"
   ]
  },
  {
   "cell_type": "markdown",
   "id": "0b11ecf4-7a30-4e40-acd7-bf819d33563a",
   "metadata": {},
   "source": [
    "Point-in-polygon: .within(), .contains()\n",
    "\n",
    "Bounding box filtering: .cx[]"
   ]
  },
  {
   "cell_type": "code",
   "execution_count": null,
   "id": "77de4c92-e472-4818-99bd-cf406f56df92",
   "metadata": {},
   "outputs": [],
   "source": []
  },
  {
   "cell_type": "markdown",
   "id": "54eee90b-cc42-4969-ad38-160dde7eaaed",
   "metadata": {},
   "source": [
    "### Spatial Joins"
   ]
  },
  {
   "cell_type": "markdown",
   "id": "0e09b1f4-bbb5-4f5f-8e27-f48bdbeeaaf0",
   "metadata": {},
   "source": [
    "gpd.sjoin(): Matching ridings with subregions\n",
    "\n",
    "Arguments: op=\"within\", op=\"intersects\""
   ]
  },
  {
   "cell_type": "code",
   "execution_count": null,
   "id": "9f40d425-ab43-47e9-8801-26238d81b518",
   "metadata": {},
   "outputs": [],
   "source": []
  },
  {
   "cell_type": "markdown",
   "id": "fb75d8b9-1260-4eac-baef-c815bd662d20",
   "metadata": {},
   "source": [
    "exercise: Join libraries to ridings based on location."
   ]
  },
  {
   "cell_type": "markdown",
   "id": "c2cac0f9-75b0-4f1e-8970-8eab66033b49",
   "metadata": {},
   "source": [
    "## Case Study"
   ]
  },
  {
   "cell_type": "code",
   "execution_count": null,
   "id": "43f2ec5d-a267-4ca4-9735-6890663a3553",
   "metadata": {},
   "outputs": [],
   "source": []
  }
 ],
 "metadata": {
  "kernelspec": {
   "display_name": "Python 3 (ipykernel)",
   "language": "python",
   "name": "python3"
  },
  "language_info": {
   "codemirror_mode": {
    "name": "ipython",
    "version": 3
   },
   "file_extension": ".py",
   "mimetype": "text/x-python",
   "name": "python",
   "nbconvert_exporter": "python",
   "pygments_lexer": "ipython3",
   "version": "3.12.5"
  }
 },
 "nbformat": 4,
 "nbformat_minor": 5
}
