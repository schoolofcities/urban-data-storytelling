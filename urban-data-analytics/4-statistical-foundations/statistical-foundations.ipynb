{
 "cells": [
  {
   "cell_type": "markdown",
   "id": "2dafcbd2-22d9-4f92-b0db-7bc0bb849e20",
   "metadata": {},
   "source": [
    "# Statistical Foundations\n",
    "### in Python, using pandas, numpy, and scipy"
   ]
  },
  {
   "cell_type": "markdown",
   "id": "2df74f21-d8aa-4622-8fbb-0db112182085",
   "metadata": {},
   "source": [
    "TODO: Motivation"
   ]
  },
  {
   "cell_type": "code",
   "execution_count": null,
   "id": "3fb998de-40cc-44c7-a507-043c137e26d0",
   "metadata": {},
   "outputs": [],
   "source": [
    "import pandas as pd\n",
    "import numpy as np\n",
    "from scipy import stats\n",
    "import matplotlib.pyplot as plt"
   ]
  },
  {
   "cell_type": "markdown",
   "id": "bf068fff-1101-4feb-9ad8-f136e021b2a0",
   "metadata": {},
   "source": [
    "## Descriptive statistics: the shape of the data"
   ]
  },
  {
   "cell_type": "markdown",
   "id": "3d469664-16bb-4cdc-9328-b01a6dd32a43",
   "metadata": {},
   "source": [
    "### Central tendency"
   ]
  },
  {
   "cell_type": "markdown",
   "id": "add09a84-455e-415c-a589-97a8b5d542ef",
   "metadata": {},
   "source": [
    "mean/median/mode"
   ]
  },
  {
   "cell_type": "code",
   "execution_count": null,
   "id": "a6f40d0a-3228-4ed4-bfe2-c7b051134fc5",
   "metadata": {},
   "outputs": [],
   "source": []
  },
  {
   "cell_type": "markdown",
   "id": "0f466b84-27fa-45c2-81d3-3f670f57c058",
   "metadata": {},
   "source": [
    "### Dispersion"
   ]
  },
  {
   "cell_type": "markdown",
   "id": "6618785a-5945-4540-b7d2-8be871359b30",
   "metadata": {},
   "source": [
    "SD/variance/range/IQR"
   ]
  },
  {
   "cell_type": "code",
   "execution_count": null,
   "id": "f4844511-6dbf-4758-8b93-04bbd0c624e4",
   "metadata": {},
   "outputs": [],
   "source": []
  },
  {
   "cell_type": "markdown",
   "id": "160ddab5-bed8-44ac-b472-8bc7e1ea0703",
   "metadata": {},
   "source": [
    "## Bivariate analysis: finding similarities in the data"
   ]
  },
  {
   "cell_type": "markdown",
   "id": "4740393b-9806-425a-9bf1-4fb3d6af0c36",
   "metadata": {},
   "source": [
    "### Correlation"
   ]
  },
  {
   "cell_type": "code",
   "execution_count": null,
   "id": "b0a35d4e-3d89-4610-9591-607e8a1f39fb",
   "metadata": {},
   "outputs": [],
   "source": []
  },
  {
   "cell_type": "markdown",
   "id": "88bdaca7-b288-4c9a-89ee-7e0f0b0cd488",
   "metadata": {},
   "source": [
    "### Grouped comparisons"
   ]
  },
  {
   "cell_type": "code",
   "execution_count": null,
   "id": "7744dad6-1654-4346-bfba-e53ab1c95ba3",
   "metadata": {},
   "outputs": [],
   "source": []
  },
  {
   "cell_type": "markdown",
   "id": "cf9a2d7b-ab83-4bab-9215-e08752984328",
   "metadata": {},
   "source": [
    "## Linear regression: relationships between variables"
   ]
  },
  {
   "cell_type": "markdown",
   "id": "6e1e79f7-e346-44f4-b723-53047ff13ea4",
   "metadata": {},
   "source": [
    "### Simple regression"
   ]
  },
  {
   "cell_type": "code",
   "execution_count": null,
   "id": "93f93fcf-47ca-4e67-90f7-5a141601fdc1",
   "metadata": {},
   "outputs": [],
   "source": []
  },
  {
   "cell_type": "markdown",
   "id": "01cee99c-9ea4-4046-938d-3902514bde0e",
   "metadata": {},
   "source": [
    "### "
   ]
  },
  {
   "cell_type": "markdown",
   "id": "a4b79f67-f4a2-45eb-bb62-02abfe63f36b",
   "metadata": {},
   "source": [
    "## Hypothesis testing: making conclusions"
   ]
  },
  {
   "cell_type": "markdown",
   "id": "c43ed965-3edf-4b53-90cb-bfece773ee16",
   "metadata": {},
   "source": [
    "### One-Sample t-test"
   ]
  },
  {
   "cell_type": "code",
   "execution_count": null,
   "id": "550f0a87-4520-4a4e-b2dc-9e719f4bad06",
   "metadata": {},
   "outputs": [],
   "source": []
  },
  {
   "cell_type": "markdown",
   "id": "cf034f2c-82b7-4b63-8d09-683af4de754b",
   "metadata": {},
   "source": [
    "### Two-Sample t-test"
   ]
  },
  {
   "cell_type": "code",
   "execution_count": null,
   "id": "dae0d89c-6da3-4c7f-828e-4f6d0eb10e81",
   "metadata": {},
   "outputs": [],
   "source": []
  },
  {
   "cell_type": "markdown",
   "id": "ac7259c5-89df-444b-be41-d1a0d675eaa1",
   "metadata": {},
   "source": [
    "### P-values"
   ]
  },
  {
   "cell_type": "code",
   "execution_count": null,
   "id": "fd59b2e8-984c-4b39-9ce8-ac4a8830af3a",
   "metadata": {},
   "outputs": [],
   "source": []
  }
 ],
 "metadata": {
  "kernelspec": {
   "display_name": "Python 3 (ipykernel)",
   "language": "python",
   "name": "python3"
  },
  "language_info": {
   "codemirror_mode": {
    "name": "ipython",
    "version": 3
   },
   "file_extension": ".py",
   "mimetype": "text/x-python",
   "name": "python",
   "nbconvert_exporter": "python",
   "pygments_lexer": "ipython3",
   "version": "3.12.5"
  }
 },
 "nbformat": 4,
 "nbformat_minor": 5
}
