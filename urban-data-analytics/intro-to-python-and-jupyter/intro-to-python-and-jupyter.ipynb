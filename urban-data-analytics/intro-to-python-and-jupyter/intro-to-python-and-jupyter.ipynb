{
 "cells": [
  {
   "cell_type": "raw",
   "metadata": {},
   "source": [
    "---\n",
    "title: \"Programming with Python and computational notebooks\"\n",
    "author: \"Julia Greenberg\"\n",
    "---"
   ]
  },
  {
   "cell_type": "markdown",
   "metadata": {},
   "source": [
    "This notebook introduces the Python programming language, Visual Studio Code (\"VS Code\"), and Jupyter Notebooks. It will cover:\n",
    "\n",
    "- A brief overview of programming, Python, integrated development environments (IDEs), and computational notebooks\n",
    "- How to run a Python (`.py`) script in the terminal\n",
    "- How to download VS Code and the Python and Jupyter Notebook extensions\n",
    "- How to run code using Jupyter Notebook (`.ipynb`) in VS Code\n",
    "- The basics of coding in Python, including:\n",
    "    - Variables\n",
    "    - Simple math\n",
    "    - Lists and dictionaries\n",
    "    - If statements\n",
    "    - For and while loops\n",
    "    - Functions\n",
    "\n",
    "## Glossary\n",
    "\n",
    "The glossary below lists key terms related to programming and Python as well as their simple definitions. We'll go into detail about each one later in this section, but feel free to refer to this table whenever you need a quick reminder of what any of these terms mean.\n",
    "\n",
    "| Term | Definition/Example |\n",
    "|-----|------------|\n",
    "| Coding/programming | The act of giving a computer written instructions for a task or set of tasks using a \"language\" like Python, R, Javascript, SQL, etc. |\n",
    "| Python | A widely used programming language |\n",
    "| Script | Plain text file with code (a Python script has the `.py` file extension) |\n",
    "| Terminal | Application for using the command line |\n",
    "| Command line | Interface for inputting commands to computer |\n",
    "| Integrated development environment (IDE) | An environment to write code in (also known as a \"code editor\") |\n",
    "| Visual Studio Code | Popular code editor (IDE) |\n",
    "| Computational notebook | Coding environment (e.g., Jupyter Notebook) that includes code, explanations, and outputs all in one place |\n",
    "| Jupyter Notebook | Popular computational notebook application |\n",
    "| Comment | Written explanation of code that is not implemented (in Python, lines that start with `#`) |\n",
    "| Variable | Labeled entity that stores information (e.g., numbers or text) |\n",
    "| List | Collection of elements which can be accessed by their position |\n",
    "| Dictionary | Object that stores information in \"key\"/\"value\" pairs |\n",
    "| If statement | Code that uses conditional logic |\n",
    "| For loop | Code that repeats for each item in a list or range |\n",
    "| While loop | Code that repeats as long as a condition is true |\n",
    "| Function | Reusable block of code that performs a task |\n",
    "| Library | Collection of related functions that can be imported in your code |\n",
    "\n",
    "\n",
    "## What is coding/programming?\n",
    "\n",
    "Computers operate using code, which is defined in [Wikipedia](https://en.wikipedia.org/wiki/Computer_program) as “a sequence or set of instructions in a programming language” that tells the computer what to do and how to do it. Coding, or [computer programming](https://en.wikipedia.org/wiki/Computer_programming), is the act of creating those written instructions.\n",
    "\n",
    "However, as you might imagine, computers and humans speak different languages. Computers operate using a specific type of code called machine code or machine language. You might recognize a basic form of machine code, binary notation, which is made up of 0s and 1s.\n",
    "\n",
    "Since most people don’t speak fluent computer, we often rely on [high-level programming languages](https://en.wikipedia.org/wiki/High-level_programming_language) like Python, R, and JavaScript to write our computer code. You can think of these programming languages as similar to languages that people speak and write, like Spanish or Arabic. Each language has its own set of rules and different syntax, but (most) ideas can be translated from one language to another. Instead of using language to communicate with other people, you write code to give directions to a computer. In data analysis, these directions could be to summarize data in a table, create a chart or a map, or generate a statistical model, for example.\n",
    "\n",
    "With any (written) language, you also need to select a platform/interface/tool to write on—for example, a Word Document or a piece of paper. Each of these different tools has a slightly different interface and convention. In coding, these [tools are called environments](https://docs.google.com/document/d/1Ni9muymVCDYcaGHT5AR2l_hlSm3plmyCI4JuvrapJhI/edit?tab=t.0#heading=h.weyvhko6wozt), which  we will discuss later in this chapter.\n",
    "\n",
    "\n",
    "## Why learn programming?\n",
    "\n",
    "Spreadsheet software, like [Excel](https://www.microsoft.com/en-us/microsoft-365/excel), [Google Sheets](https://workspace.google.com/products/sheets/), and [LibreOffice calc](https://www.libreoffice.org/discover/calc/), can be great for viewing and exploring data and performing simple analyses. However, they struggle with large datasets, lack robust tools for cleaning and transforming complex data, have very limited options for spatial/geographic data, and make reproducibility nearly impossible. Plus, it's easy to introduce silent errors with formulas or copy-pasting. For anything beyond basic summaries or charts, scripting languages like Python are far more powerful, reliable, and scalable.\n",
    "\n",
    "If you are not interested in learning Python, however, many of the other notebooks in this online textbook that show Python examples also include links to equivalent examples in QGIS or Excel.\n",
    "\n",
    "\n",
    "## Why learn Python?\n",
    "\n",
    "[Python](https://www.python.org/doc/essays/blurb/) is a widely used programming language, especially in urban and spatial analysis, because it's easy to learn relative to other languages and has a strong ecosystem of libraries for working with data, maps, and models. Plus, it's open source and has a huge community of people that use and develop it, which means lots of learning resources and support. While we'll mostly be exploring Python, the same concepts are applicable across many other languages and software."
   ]
  },
  {
   "cell_type": "markdown",
   "metadata": {},
   "source": [
    "## Download Python\n",
    "\n",
    "Before you can run any Python code, download the most recent version of Python from [this link](https://www.python.org/downloads/) if you haven't already. Make sure to choose the correct version for your computer (Windows vs. macOS), and follow the instructions to complete the download.\n",
    "\n",
    "![Screenshot of Python download website](img/python_download.png){width=50%}\n",
    "\n",
    "If you get stuck at any point while downloading software, using the terminal, or writing code, read [these tips](https://schoolofcities.github.io/urban-data-storytelling/urban-data-analytics/what-and-where-of-data/what-and-where-of-data.html#getting-help) for getting help.\n",
    "\n",
    "## How do I run Python code using the terminal?\n",
    "\n",
    "Python lets you write instructions in a plain text file, often called a *script*, which the Python interpreter on your computer reads and runs line by line. You don’t need to \"compile\" your code like in some other languages—you can just write it, save it as a `.py` file, and run it directly using the *command line* in your *terminal*. The terminal is an application that provides access to the command line, which is the space where you type instructions for your computer to execute. However, the terms \"command line\" and \"terminal\" are often used interchangeably, and are also called the shell, console, prompt, or various other names.\n",
    "\n",
    "You can use the terminal/command line to do things like run programs and manipulate files and folders stored on your computer. The command line has its own language and syntax, kind of like how Python is its own language, and some of the commands are slightly different for different operating systems. In other words, they might change depending on whether you have a Mac or a Windows computer. See a list of Windows commands [here](https://www.cs.columbia.edu/~sedwards/classes/2015/1102-fall/Command%20Prompt%20Cheatsheet.pdf) and Mac commands [here](https://www.geeksforgeeks.org/complete-mac-terminal-commands-cheat-sheet/).\n",
    "\n",
    "### 1. Write a `.py` script\n",
    "\n",
    "Start by creating a file on your computer called `my-script.py`, a very simple script which simply prints \"Hello, world!\". You can do this by (1) opening a basic text editor (e.g., TextEdit on macOS or Notepad on Windows), (2) writing (only) the following code... \n",
    "\n",
    "```py\n",
    "print(\"Hello, world!\")\n",
    "```\n",
    "\n",
    "...and (3) saving the file as `my-script.py` in a directory (another word for \"folder\") that you'll remember.\n",
    "\n",
    "It might make sense to create a new folder on your computer for the work you do in this workshop so that it's all in one place. Make sure to use that file extension instead of saving it as a `.txt` text file.\n",
    "\n",
    "If possible, make sure the full \"[file path](https://en.wikipedia.org/wiki/Path_(computing))\"—the sequence of characters that specifies where on your computer a file is located—does not have any spaces or weird characters in it, as this can cause issues later on. For example, instead of creating a folder called `urban data`, create a folder called `urban-data` so that the full file path is `/Users/jpg23/urban-data/my-script.py` instead of `/Users/jpg23/urban data/my-script.py`. \n",
    "\n",
    "If you're not sure how to get the file path of your `.py` script, see these helpful links for [Mac](https://support.apple.com/en-ca/guide/mac-help/mchlp1774/mac) and [Windows](https://www.howtogeek.com/670447/how-to-copy-the-full-path-of-a-file-on-windows-10/) computers. Note that the format of a file path might look different on different computers.\n",
    "\n",
    "### 2. Open the terminal\n",
    "\n",
    "To open the terminal on a Mac, follow [these instructions](https://support.apple.com/en-ca/guide/terminal/apd5265185d-f365-44cb-8b09-71a064a42125/mac). To open the terminal on a Windows computer, follow [these instructions](https://www.wikihow.com/Open-Terminal-in-Windows).\n",
    "\n",
    "[This link](https://vteams.com/blog/how-to-run-a-python-script-in-terminal/) explains how to run a Python script in the terminal. If you're still having trouble, Google your questions (or use ChatGPT!) to troubleshoot.\n",
    "\n",
    "### 2. Navigate to the folder where you saved your `.py` file\n",
    "\n",
    "Now use the terminal to navigate to the folder where you saved the `my-script.py` file using the `cd` command, which changes the directory. For example, if you saved the file in a folder called `urban-data`, and the full file path to your `.py` file is `/Users/jpg23/urban-data/my-script.py` (to get the file path, see again these helpful links for [Mac](https://support.apple.com/en-ca/guide/mac-help/mchlp1774/mac) and [Windows](https://www.howtogeek.com/670447/how-to-copy-the-full-path-of-a-file-on-windows-10/)), you'd want to type `cd /Users/jpg23/urban-data` in the terminal and hit enter. This will bring you to the folder that your `.py` file is saved in.\n",
    "\n",
    "![Screenshot of terminal `cd` command](img/terminal_cd.png)\n",
    "\n",
    "Next, to see what files are located in this directory, use the `ls` command for Mac (or `dir` for Windows).\n",
    "\n",
    "![Screenshot of terminal `ls` command](img/terminal_ls.png)\n",
    "\n",
    "Good—the `my-script.py` is indeed in the `urban-data` folder.\n",
    "\n",
    "### 3. Run your script\n",
    "\n",
    "Once you know you're in the right folder, type the following: `python my-script.py` and then hit enter. This should result in the computer printing out `Hello, world!` on the next line, like below:\n",
    "\n",
    "![Screenshot of terminal command to run Python script](img/terminal_py.png)\n",
    "\n",
    "If you're having trouble getting this output, first try typing `py my-script.py` or `python3 my-script.py` instead. If it's still not working, Google your questions or explain your problem to a chatbot like [ChatGPT](https://chatgpt.com/) and ask it to walk you through the steps. Chatbots are very good at solving these kinds of problems, but remember to always make sure you understand what they're telling you.\n",
    "\n",
    "The Python code we just ran, despite all the steps it took, is very simple. Usually, you'll want your code to do more than just print out a statement. However, if you're running `.py` scripts in the terminal, it can be hard to see what your code is doing. For example, you won't be able to see a plot that you create in Python using just the command line.\n",
    "\n",
    "In the following section, we'll explain how you can use other tools and applications to code in a more interactive way."
   ]
  },
  {
   "cell_type": "markdown",
   "metadata": {},
   "source": [
    "## How else can I run Python code?\n",
    "\n",
    "### Tools for writing code\n",
    "\n",
    "When you write something in English or another language, you need to choose an \"environment\" (i.e., platform/interface/application) to write in. For example, if you're writing an email, you might use Gmail or Outlook. If you're writing a report, you might use Google Docs or Microsoft Word. Or maybe you prefer writing on parchment with a quill pen!\n",
    "\n",
    "When coding, you also have to choose an environment to write in. This is typically called a \"code editor\" or *[integrated development environment](https://en.wikipedia.org/wiki/Integrated_development_environment)* (IDE). The simplest editor would simply be the `notepad` or `text editor` on your computer.  But there are many IDEs to choose from that make coding much easier. Some of the most popular ones for Python are [Visual Studio Code](https://code.visualstudio.com/) (\"VS Code\") and [PyCharm](https://www.jetbrains.com/pycharm/).\n",
    "\n",
    "A main benefit for using a code editor is that it highlights different parts of your code in different colours or styles, making it much easier to read.\n",
    "\n",
    "![Screenshot of part of a Python script in VS Code](img/vs-code.png)"
   ]
  },
  {
   "cell_type": "markdown",
   "metadata": {},
   "source": [
    "### Computational notebooks\n",
    "\n",
    "There are many different ways to execute code, or tell the computer to perform the instructions you've written. If you write your code in a file that's saved with the `.py` file extension, you can run it all at once, and the computer will follow all of your instructions, one line at a time. This works well for scripts that are complete and do not need to be run in separate chunks.\n",
    "\n",
    "If you are exploring, analyzing, or visualizing data, it is sometimes easier to work in a *computational notebook*. Computational notebooks are coding environments that not only allow you to write code, but also let you write explanations and show the outputs of your analysis, very similar to pre-digital formats.\n",
    "\n",
    "![Notebook by Galileo](img/galileo-nb.png){width=50%}\n",
    "\n",
    "[Jupyter Notebooks](https://jupyter.org/) (named after Galileo's work!) are often used for data analysis in Python. When using a Jupyter Notebook, you can run code chunk-by-chunk and see the output right below each chunk. For example, you can write a chunk of code that manipulates a dataframe and then look at the first few rows of the dataframe right below the code. The page you are reading now was written in a Jupyter notebook! :)\n",
    "\n",
    "![Example of a Jupyter notebook that creates a map](img/jupyter-vscode.png)\n",
    "\n",
    "While you can choose to work with code editors like [Sublime Text](https://www.sublimetext.com/) or notebooks via [Jupyter Lab](https://jupyterlab.readthedocs.io/en/latest/) (a web-based environment for Jupyter Notebooks), we recommend using Jupyter Notebooks in VS Code via the [Jupyter Notebook \"extension\"](https://code.visualstudio.com/docs/datascience/jupyter-notebooks). In other words, you're using a Jupyter Notebook format (which has the `.ipynb` file extension, just like how basic Python scripts have the `.py` extension) in the VS Code IDE. We'll discuss this in the next sections.\n",
    "\n",
    "### VS Code + Python\n",
    "\n",
    "Let's start by running your simple `.py` file in VS Code, just to show you how that works, and then afterwards we'll move on to using a Jupyter Notebook instead.\n",
    "\n",
    "First download the appropriate version of VS Code for your computer from [this link](https://code.visualstudio.com/download). Once you've finished setting it up, open the desktop application and open a new folder by clicking on the \"Explorer\" tab at the top left, clicking \"Open Folder\", and navigating to the directory that you want to work in. This essentially pins the folder you're working in to the left of the screen so that you can easily access all the files within it.\n",
    "\n",
    "![Opening a folder in VS Code](img/vscode_open.png)\n",
    "\n",
    "For example, if you open the `urban-data` folder from earlier, you should see the `my-script.py` file within it.\n",
    "\n",
    "![Opening a `.py` file in VS Code](img/urban-data-vscode.png)\n",
    "\n",
    "To run this `.py` file directly in VS Code, first install the Python extension, which allows you to program in VS Code using the Python language, by clicking the Extensions icon on the left sidebar (it looks like four squares) and typing \"Python\" in the search bar. Click on the extension named \"Python\":\n",
    "\n",
    "![Installing the Python extension in VS Code](img/vscode_python.png)\n",
    "\n",
    "Next, go back to your `.py` file by clicking on the Explorer icon on the top of the left sidebar (it looks like two pieces of paper) and clicking on `my-script.py`. Click the arrow button at the top right of the window and a terminal (just like the one you used before!) should show up with the result:\n",
    "\n",
    "![Executing a `.py` file in VS Code](img/python_vscode.png)\n",
    "\n",
    "### VS Code + Python + Jupyter Notebook\n",
    "\n",
    "To create a Jupyter Notebook, you'll first need to install the Jupyter Python package. If you don't already have a terminal open from the previous step, open a new terminal by clicking on \"Terminal\" (this should be at the top of your screen) -> \"New Terminal\".\n",
    "\n",
    "Next, type the following code into the terminal and hit enter: `python -m pip install notebook`. If this doesn't work, try `py -m pip install notebook` or `python3 -m pip install notebook`.\n",
    "\n",
    "![Installing the Jupyter Python package via the terminal](img/install_jupyter.png)\n",
    "\n",
    "This installs the backend tool so you can actually run Jupyter Notebooks.\n",
    "\n",
    "Now click the Extensions icon on the left sidebar (it looks like four squares) and type \"Jupyter\" in the search bar. Click on the extension named \"Jupyter\" by Microsoft, and then click the \"Install\" button. This extension lets you run and work with `.ipynb` notebook files directly in VS Code.\n",
    "\n",
    "![Installing the Jupyter Extension in VS Code](img/vscode_jupyter.png)\n",
    "\n",
    "Create a new Jupyter Notebook in your folder by clicking \"File\" (this should be at the top of your screen) -> \"New File...\" and selecting Jupyter Notebook. This will create a file with the `.ipynb` extension instead of the `.py` extension.\n",
    "\n",
    "![Selecting a Jupyter Notebook file format in VS Code](img/select_jupyter.png)\n",
    "\n",
    "Next, select a Python environment to work in by clicking on the \"Select Kernel\" button at the top right, \"Python Environments\", and then the version of Python that you've installed. This essentially tells VS Code which programming language (and which version of Python specifically) you want it to use to execute your code.\n",
    "\n",
    "![Selecting a Python environment](img/python_env.png)\n",
    "\n",
    "To write and run code in the notebook, use \"cells\" that contain chunks of information. For example, write the code from earlier (`print(\"Hello, world!\")`) in the first cell, and then click the arrow to the left of the cell to run/execute it:\n",
    "\n",
    "![Running a chunk of code in Jupyter Notebook](img/hello_world_jupyter.png)\n",
    "\n",
    "When you run an individual cell, you are telling the computer to follow the instructions you've provided in only that cell, ignoring any other cells that are in the notebook. Be careful of the order in which you \"execute\" the cells. For example, if you run cell B before running cell A, it doesn't matter if cell B is located below cell A -- the computer will still follow the instructions in B first and A second.\n",
    "\n",
    "To create a new cell, click on the `+ Code` button at the top left:\n",
    "\n",
    "![Creating a new cell in Jupyter Notebook](img/new-cell.png)\n",
    "\n",
    "For more information about how to use Jupyter Notebook in VS Code (including useful keyboard shortcuts!), see [this link](https://code.visualstudio.com/docs/datascience/jupyter-notebooks)."
   ]
  },
  {
   "cell_type": "markdown",
   "metadata": {},
   "source": [
    "## Python basics"
   ]
  },
  {
   "cell_type": "markdown",
   "metadata": {},
   "source": [
    "Now that you have Jupyter Notebook set up, let's code! Below, we'll cover some of the basic building blocks of Python.\n",
    "\n",
    "Open up a fresh `.ipynb` file and you can get started writing bits of code for each of the topics below. We recommend creating a new cell for each new topic or task you're trying to accomplish, but feel free to group the lines of code however it makes sense to you."
   ]
  },
  {
   "cell_type": "markdown",
   "metadata": {},
   "source": [
    "### Variables"
   ]
  },
  {
   "cell_type": "markdown",
   "metadata": {},
   "source": [
    "A variable is like a labeled entity that stores information (numbers, text, etc.). You can create a variable, give it a name, and assign it a value.\n",
    "\n",
    "Note that in the below code, some of the lines are written with a `#` at the beginning - these are *comments*. Putting a `#` in front of a line of code tells the computer not to execute it. You should use comments often to explain what your code is doing, either for someone else who might need to understand it or for your future self."
   ]
  },
  {
   "cell_type": "code",
   "execution_count": 7,
   "metadata": {},
   "outputs": [],
   "source": [
    "# Assign a value to a variable\n",
    "city = \"Toronto\"\n",
    "population = 100"
   ]
  },
  {
   "cell_type": "markdown",
   "metadata": {},
   "source": [
    "In the above cell, we created two variables, one called `city` and another called `population`. The `city` variable is a *string* because it is a sequence of characters. The computer knows this is a string because we enclosed the text, Toronto, in quotes. Single or double quotes both work here.\n",
    "\n",
    "The `population` variable is an *integer* because it is a numeric value without decimals. You can see the data type with `type([name of object])` like below:"
   ]
  },
  {
   "cell_type": "code",
   "execution_count": 8,
   "metadata": {},
   "outputs": [
    {
     "data": {
      "text/plain": [
       "int"
      ]
     },
     "execution_count": 8,
     "metadata": {},
     "output_type": "execute_result"
    }
   ],
   "source": [
    "type(population)"
   ]
  },
  {
   "cell_type": "markdown",
   "metadata": {},
   "source": [
    "If we *print* the variable, it will show us the variable's value:"
   ]
  },
  {
   "cell_type": "code",
   "execution_count": 9,
   "metadata": {},
   "outputs": [
    {
     "name": "stdout",
     "output_type": "stream",
     "text": [
      "100\n"
     ]
    }
   ],
   "source": [
    "print(population)"
   ]
  },
  {
   "cell_type": "markdown",
   "metadata": {},
   "source": [
    "We can also re-assign variables, which will change their value. Now when we print the value of `population`, it will show 101 instead of 100:"
   ]
  },
  {
   "cell_type": "code",
   "execution_count": 11,
   "metadata": {},
   "outputs": [
    {
     "name": "stdout",
     "output_type": "stream",
     "text": [
      "101\n"
     ]
    }
   ],
   "source": [
    "# Re-assign `population` variable with a new value\n",
    "population = 101\n",
    "print(population)"
   ]
  },
  {
   "cell_type": "markdown",
   "metadata": {},
   "source": [
    "Remember that the computer interprets your code in the order you run the cells, not in the order of the cells in the notebook. For example, if you ran the above cell that assigns a value of 101 to the `population` variable before running the cell that assigns the value of 100 to `population`, the computer would first store the value of 101 before re-assigning it the value of 100."
   ]
  },
  {
   "cell_type": "markdown",
   "metadata": {},
   "source": [
    "### Simple math"
   ]
  },
  {
   "cell_type": "markdown",
   "metadata": {},
   "source": [
    "Python can do simple math, like a calculator:"
   ]
  },
  {
   "cell_type": "code",
   "execution_count": 5,
   "metadata": {},
   "outputs": [
    {
     "data": {
      "text/plain": [
       "7"
      ]
     },
     "execution_count": 5,
     "metadata": {},
     "output_type": "execute_result"
    }
   ],
   "source": [
    "4 + 3"
   ]
  },
  {
   "cell_type": "code",
   "execution_count": 6,
   "metadata": {},
   "outputs": [
    {
     "data": {
      "text/plain": [
       "3.3333333333333335"
      ]
     },
     "execution_count": 6,
     "metadata": {},
     "output_type": "execute_result"
    }
   ],
   "source": [
    "10/3"
   ]
  },
  {
   "cell_type": "markdown",
   "metadata": {},
   "source": [
    "You can also use the [`math`](https://docs.python.org/3/library/math.html) module to access more advanced functions, like taking the square root. To use this module, you have to import it first:"
   ]
  },
  {
   "cell_type": "code",
   "execution_count": 7,
   "metadata": {},
   "outputs": [
    {
     "data": {
      "text/plain": [
       "5.0"
      ]
     },
     "execution_count": 7,
     "metadata": {},
     "output_type": "execute_result"
    }
   ],
   "source": [
    "import math # import module\n",
    "math.sqrt(25)"
   ]
  },
  {
   "cell_type": "markdown",
   "metadata": {},
   "source": [
    "### Lists"
   ]
  },
  {
   "cell_type": "markdown",
   "metadata": {},
   "source": [
    "A list is a collection of elements which can be accessed by their position. Python uses something called [zero-based indexing](https://en.wikipedia.org/wiki/Zero-based_numbering), which means the first element of a sequence has an index (position) of 0 instead of 1.\n",
    "\n",
    "In the below example, `transport_modes` is a *variable* whose type is a *list*."
   ]
  },
  {
   "cell_type": "code",
   "execution_count": 21,
   "metadata": {},
   "outputs": [
    {
     "data": {
      "text/plain": [
       "list"
      ]
     },
     "execution_count": 21,
     "metadata": {},
     "output_type": "execute_result"
    }
   ],
   "source": [
    "# Assign list to variable called 'transport_modes'\n",
    "transport_modes = [\"train\", \"car\", \"bus\"]\n",
    "type(transport_modes)"
   ]
  },
  {
   "cell_type": "code",
   "execution_count": 22,
   "metadata": {},
   "outputs": [
    {
     "name": "stdout",
     "output_type": "stream",
     "text": [
      "train\n"
     ]
    }
   ],
   "source": [
    "# Access first item in list\n",
    "print(transport_modes[0])"
   ]
  },
  {
   "cell_type": "code",
   "execution_count": 23,
   "metadata": {},
   "outputs": [
    {
     "name": "stdout",
     "output_type": "stream",
     "text": [
      "car\n"
     ]
    }
   ],
   "source": [
    "# Access second item in list\n",
    "print(transport_modes[1])"
   ]
  },
  {
   "cell_type": "markdown",
   "metadata": {},
   "source": [
    "Items can be appended to lists:"
   ]
  },
  {
   "cell_type": "code",
   "execution_count": 24,
   "metadata": {},
   "outputs": [
    {
     "name": "stdout",
     "output_type": "stream",
     "text": [
      "['train', 'car', 'bus', 'streetcar']\n"
     ]
    }
   ],
   "source": [
    "# Add \"streetcar\" to the list\n",
    "transport_modes.append(\"streetcar\")\n",
    "print(transport_modes)"
   ]
  },
  {
   "cell_type": "markdown",
   "metadata": {},
   "source": [
    "We can check the length of the new list to see how many elements it has:"
   ]
  },
  {
   "cell_type": "code",
   "execution_count": 25,
   "metadata": {},
   "outputs": [
    {
     "data": {
      "text/plain": [
       "4"
      ]
     },
     "execution_count": 25,
     "metadata": {},
     "output_type": "execute_result"
    }
   ],
   "source": [
    "len(transport_modes)"
   ]
  },
  {
   "cell_type": "markdown",
   "metadata": {},
   "source": [
    "Learn more about lists [here](https://www.w3schools.com/python/python_lists.asp)."
   ]
  },
  {
   "cell_type": "markdown",
   "metadata": {},
   "source": [
    "### Dictionaries"
   ]
  },
  {
   "cell_type": "markdown",
   "metadata": {},
   "source": [
    "A dictionary is a type of object that stores information in pairs: each \"entry\" in the dictionary has both a *key* and a *value*. In the example below, `housing_unit` is a dictionary that contains characteristics -- specifically the address and age -- of a housing unit."
   ]
  },
  {
   "cell_type": "code",
   "execution_count": 26,
   "metadata": {},
   "outputs": [],
   "source": [
    "housing_unit = {\"address\": \"605 Main St\", \"age\": 70}"
   ]
  },
  {
   "cell_type": "markdown",
   "metadata": {},
   "source": [
    "We can access the value associated with the `address` of the housing unit:"
   ]
  },
  {
   "cell_type": "code",
   "execution_count": 27,
   "metadata": {},
   "outputs": [
    {
     "name": "stdout",
     "output_type": "stream",
     "text": [
      "605 Main St\n"
     ]
    }
   ],
   "source": [
    "print(housing_unit[\"address\"])"
   ]
  },
  {
   "cell_type": "markdown",
   "metadata": {},
   "source": [
    "We can also add a new key-value pair to the dictionary that represents, in this case, the housing unit type:"
   ]
  },
  {
   "cell_type": "code",
   "execution_count": 28,
   "metadata": {},
   "outputs": [
    {
     "name": "stdout",
     "output_type": "stream",
     "text": [
      "{'address': '605 Main St', 'age': 70, 'type': 'condominium'}\n"
     ]
    }
   ],
   "source": [
    "housing_unit[\"type\"] = \"condominium\"\n",
    "print(housing_unit)"
   ]
  },
  {
   "cell_type": "markdown",
   "metadata": {},
   "source": [
    "Learn more about dictionaries [here](https://www.w3schools.com/python/python_dictionaries.asp)."
   ]
  },
  {
   "cell_type": "markdown",
   "metadata": {},
   "source": [
    "### If statements"
   ]
  },
  {
   "cell_type": "markdown",
   "metadata": {},
   "source": [
    "If statements let your code make decisions. You check a condition (e.g., whether income < 30,000), and run different code depending on whether it's true or false."
   ]
  },
  {
   "cell_type": "code",
   "execution_count": 29,
   "metadata": {},
   "outputs": [
    {
     "name": "stdout",
     "output_type": "stream",
     "text": [
      "You're not considered low-income.\n"
     ]
    }
   ],
   "source": [
    "income = 50000\n",
    "\n",
    "if income < 30000:\n",
    "    print(\"You're considered low-income.\")\n",
    "else:\n",
    "    print(\"You're not considered low-income.\")"
   ]
  },
  {
   "cell_type": "markdown",
   "metadata": {},
   "source": [
    "Learn more about if statements [here](https://www.w3schools.com/python/python_conditions.asp)."
   ]
  },
  {
   "cell_type": "markdown",
   "metadata": {},
   "source": [
    "### For loops"
   ]
  },
  {
   "cell_type": "markdown",
   "metadata": {},
   "source": [
    "A for loop repeats code for each item in a list or range. For example:"
   ]
  },
  {
   "cell_type": "code",
   "execution_count": 30,
   "metadata": {},
   "outputs": [
    {
     "data": {
      "text/plain": [
       "['train', 'car', 'bus', 'streetcar']"
      ]
     },
     "execution_count": 30,
     "metadata": {},
     "output_type": "execute_result"
    }
   ],
   "source": [
    "# Reminder of what items are in the 'transport_modes' list:\n",
    "transport_modes"
   ]
  },
  {
   "cell_type": "code",
   "execution_count": 31,
   "metadata": {},
   "outputs": [
    {
     "name": "stdout",
     "output_type": "stream",
     "text": [
      "train\n",
      "car\n",
      "bus\n",
      "streetcar\n"
     ]
    }
   ],
   "source": [
    "for transport_mode in transport_modes:\n",
    "    print(transport_mode)"
   ]
  },
  {
   "cell_type": "markdown",
   "metadata": {},
   "source": [
    "Learn more about for loops [here](https://www.w3schools.com/python/python_for_loops.asp)."
   ]
  },
  {
   "cell_type": "markdown",
   "metadata": {},
   "source": [
    "### While loops"
   ]
  },
  {
   "cell_type": "markdown",
   "metadata": {},
   "source": [
    "A while loop repeats code as long as a condition is true. In the below example, we start with 0 and keep adding 1 until we get to 3, after which we stop counting:"
   ]
  },
  {
   "cell_type": "code",
   "execution_count": 18,
   "metadata": {},
   "outputs": [
    {
     "name": "stdout",
     "output_type": "stream",
     "text": [
      "Counting: 0\n",
      "Counting: 1\n",
      "Counting: 2\n",
      "Counting: 3\n"
     ]
    }
   ],
   "source": [
    "count = 0\n",
    "while count <= 3:\n",
    "    print(\"Counting:\", count)\n",
    "    count += 1"
   ]
  },
  {
   "cell_type": "markdown",
   "metadata": {},
   "source": [
    "Learn more about while loops [here](https://www.w3schools.com/python/python_while_loops.asp)."
   ]
  },
  {
   "cell_type": "markdown",
   "metadata": {},
   "source": [
    "### Functions"
   ]
  },
  {
   "cell_type": "markdown",
   "metadata": {},
   "source": [
    "A function is a reusable block of code that performs a task. You \"define\" it (write the code that performs the task) once and \"call\" it (run that pre-defined code) whenever you want. In the below example, we define the function `zoning` so that when it is called, it prints \"This parcel is zoned as [land_use]!\" where `land_use` is an *argument* (also known as a *parameter*) that's passed into the function."
   ]
  },
  {
   "cell_type": "code",
   "execution_count": 33,
   "metadata": {},
   "outputs": [
    {
     "name": "stdout",
     "output_type": "stream",
     "text": [
      "This parcel is zoned as commercial.\n"
     ]
    }
   ],
   "source": [
    "# Define the function\n",
    "def zoning(land_use):\n",
    "    print(f\"This parcel is zoned as {land_use}.\")\n",
    "\n",
    "# Call the function\n",
    "zoning(\"commercial\")"
   ]
  },
  {
   "cell_type": "markdown",
   "metadata": {},
   "source": [
    "Not all functions need arguments. For example:"
   ]
  },
  {
   "cell_type": "code",
   "execution_count": 34,
   "metadata": {},
   "outputs": [
    {
     "name": "stdout",
     "output_type": "stream",
     "text": [
      "Toronto, Montreal, and Calgary are the largest cities in Canada by population.\n"
     ]
    }
   ],
   "source": [
    "# Define the function\n",
    "def largest_cities():\n",
    "    print(\"Toronto, Montreal, and Calgary are the largest cities in Canada by population.\")\n",
    "\n",
    "# Call the function\n",
    "largest_cities()"
   ]
  },
  {
   "cell_type": "markdown",
   "metadata": {},
   "source": [
    "Some functions have more than one argument. For example:"
   ]
  },
  {
   "cell_type": "code",
   "execution_count": 21,
   "metadata": {},
   "outputs": [
    {
     "name": "stdout",
     "output_type": "stream",
     "text": [
      "15\n"
     ]
    }
   ],
   "source": [
    "# Define the function\n",
    "def add_numbers(a, b):\n",
    "    c = a + b\n",
    "    print(c)\n",
    "\n",
    "# Call the function\n",
    "add_numbers(8, 7)"
   ]
  },
  {
   "cell_type": "markdown",
   "metadata": {},
   "source": [
    "While all of the example functions listed above result in something being printed out, most functions do more than that. For example, a single function can filter a dataset based on a set of values, manipulate the resulting dataset, and create a plot.\n",
    "\n",
    "Learn more about functions [here](https://www.w3schools.com/python/python_functions.asp)."
   ]
  },
  {
   "cell_type": "markdown",
   "metadata": {},
   "source": [
    "### Libraries\n",
    "\n",
    "Libraries are collections of related functions that do things like analyze data, draw charts, or work with maps. \n",
    "\n",
    "Many libraries like `math` for a variety of mathematical operations, `os` for interacting with files on your computer, and `random` for generating random numbers, typically come automatically installed with Python.\n",
    "\n",
    "There are many popular freely available libraries available—like `pandas` for working with data tables, `matplotlib` for plotting, and `geopandas` for spatial data—that can help you do a lot with just a few lines of code.\n",
    "\n",
    "To include functions that are part of a library, we use `import` at the top of our script. For example, let's import a function for a random number generator, and use it to create our own [d20](https://en.wikipedia.org/wiki/Regular_icosahedron) dice rolling function."
   ]
  },
  {
   "cell_type": "code",
   "execution_count": 11,
   "metadata": {},
   "outputs": [
    {
     "name": "stdout",
     "output_type": "stream",
     "text": [
      "14\n"
     ]
    }
   ],
   "source": [
    "import random\n",
    "\n",
    "# Function to roll a 20-sided dice\n",
    "def roll_d20():\n",
    "    return random.randint(1, 20)\n",
    "\n",
    "# Simulate rolling the dice\n",
    "roll = roll_d20()\n",
    "print(roll)"
   ]
  },
  {
   "cell_type": "markdown",
   "metadata": {},
   "source": [
    "When using external libraries like `pandas`, we need to *install* the library before we can *import* and then use it. In Jupyter Notebook, we can do this by running `!pip install [name of library]`. If you are running Python in your command line, you can simply run `pip install [name of library]`\n",
    "\n",
    "`pip` should have been automatically installed on your computer when you downloaded Python. However, if for some reason it's not installed, follow [these instructions](https://pip.pypa.io/en/stable/installation/). If you're still having trouble, try Googling your specific questions or asking a chatbot for step-by-step instructions!"
   ]
  }
 ],
 "metadata": {
  "kernelspec": {
   "display_name": "urb",
   "language": "python",
   "name": "python3"
  },
  "language_info": {
   "codemirror_mode": {
    "name": "ipython",
    "version": 3
   },
   "file_extension": ".py",
   "mimetype": "text/x-python",
   "name": "python",
   "nbconvert_exporter": "python",
   "pygments_lexer": "ipython3",
   "version": "3.10.10"
  }
 },
 "nbformat": 4,
 "nbformat_minor": 2
}
