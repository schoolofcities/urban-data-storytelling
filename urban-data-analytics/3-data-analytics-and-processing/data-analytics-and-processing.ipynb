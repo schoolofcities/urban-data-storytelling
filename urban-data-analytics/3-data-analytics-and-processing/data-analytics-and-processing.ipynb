{
 "cells": [
  {
   "cell_type": "markdown",
   "id": "ae6c19ac-423f-4e03-9453-b74de83ebccb",
   "metadata": {},
   "source": [
    "# Introductory data processing and analytics\n",
    "### in Python, using pandas"
   ]
  },
  {
   "cell_type": "markdown",
   "id": "55dd9f12-1cd0-48ca-b439-686e151137f5",
   "metadata": {},
   "source": [
    "pandas is a Python library for analyzing and organizing tabular data. It's probably the most common library for working with both big and small datasets in Python, and is the basis for working with more analytical packages (e.g. numpy, scipy, scikit-learn) and analyzing geographic data (e.g. geopandas)\n",
    "\n",
    "This notebook provides an intro to pandas for analyzing urban data. We'll be learning the following\n",
    " - TODO"
   ]
  },
  {
   "cell_type": "code",
   "execution_count": 26,
   "id": "1123b26f-d663-411d-a5e6-aa6e6433a265",
   "metadata": {},
   "outputs": [],
   "source": [
    "import pandas as pd"
   ]
  },
  {
   "cell_type": "markdown",
   "id": "b8c8de5d-68cf-440f-842c-7126d22dcf47",
   "metadata": {},
   "source": [
    "## DataFrames: the basic unit of pandas"
   ]
  },
  {
   "cell_type": "markdown",
   "id": "0879c7e2-7e2a-4874-a051-485635b8a5b5",
   "metadata": {},
   "source": [
    "In pandas, a `DataFrame` is a tabular data structure similar to a spreadsheet, where data is organized in rows and columns. These can contain different kinds of data, such as numbers, strings, dates, and so on. When we load data in pandas, we typically load it into the structure of a `DataFrame`."
   ]
  },
  {
   "cell_type": "markdown",
   "id": "3f63d820-e430-4de2-979f-e0965844f5cf",
   "metadata": {},
   "source": [
    "Let's first take a look at a small dataset, Canadian municipalities and their population in 2021 and 2016, based on Census data. In Statistics Canada lingo, these are called [Census Subdivisions](https://www12.statcan.gc.ca/census-recensement/2021/ref/dict/az/Definition-eng.cfm?ID=geo012). This dataset only includes municipalities with a population greater than 25,000 in 2021."
   ]
  },
  {
   "cell_type": "markdown",
   "id": "9c702dc1-431f-45e8-9275-e0c761956aea",
   "metadata": {},
   "source": [
    "The main method for loading csv data is to use the [read_csv](https://pandas.pydata.org/pandas-docs/stable/reference/api/pandas.read_csv.html) function, but pandas can also read and write [many other](https://pandas.pydata.org/pandas-docs/stable/reference/io.html) data formats."
   ]
  },
  {
   "cell_type": "code",
   "execution_count": 27,
   "id": "9113af00-ba82-4adc-83d5-812caf09d720",
   "metadata": {},
   "outputs": [],
   "source": [
    "df = pd.read_csv(\"data/cities.csv\")"
   ]
  },
  {
   "cell_type": "markdown",
   "id": "b4d44668-ce3e-46c0-a360-67370e3b2d61",
   "metadata": {},
   "source": [
    "Great! Now our data is stored in the variable `df` in the structure of a `DataFrame`."
   ]
  },
  {
   "cell_type": "markdown",
   "id": "3d78884e-83d4-420d-b493-96698da5e54c",
   "metadata": {},
   "source": [
    "### Exploring"
   ]
  },
  {
   "cell_type": "markdown",
   "id": "5b57fe6c-44d5-470e-8148-316542c82d80",
   "metadata": {},
   "source": [
    "Let's explore what this data frame looks like. Adding the function `.head(N)` or `.tail(N)` prints the top or bottom `N` rows of the DataFrame. The following prints the first 10 rows - **see if you can print the bottom 10 rows or a different number of rows**."
   ]
  },
  {
   "cell_type": "code",
   "execution_count": 3,
   "id": "b9a1124a-1e2b-4bf1-a621-194704815820",
   "metadata": {},
   "outputs": [
    {
     "data": {
      "text/html": [
       "<div>\n",
       "<style scoped>\n",
       "    .dataframe tbody tr th:only-of-type {\n",
       "        vertical-align: middle;\n",
       "    }\n",
       "\n",
       "    .dataframe tbody tr th {\n",
       "        vertical-align: top;\n",
       "    }\n",
       "\n",
       "    .dataframe thead th {\n",
       "        text-align: right;\n",
       "    }\n",
       "</style>\n",
       "<table border=\"1\" class=\"dataframe\">\n",
       "  <thead>\n",
       "    <tr style=\"text-align: right;\">\n",
       "      <th></th>\n",
       "      <th>Name</th>\n",
       "      <th>Prov/terr</th>\n",
       "      <th>Population, 2021</th>\n",
       "      <th>Population, 2016</th>\n",
       "    </tr>\n",
       "  </thead>\n",
       "  <tbody>\n",
       "    <tr>\n",
       "      <th>0</th>\n",
       "      <td>Abbotsford</td>\n",
       "      <td>B.C.</td>\n",
       "      <td>153524</td>\n",
       "      <td>141397</td>\n",
       "    </tr>\n",
       "    <tr>\n",
       "      <th>1</th>\n",
       "      <td>Airdrie</td>\n",
       "      <td>Alta.</td>\n",
       "      <td>74100</td>\n",
       "      <td>61581</td>\n",
       "    </tr>\n",
       "    <tr>\n",
       "      <th>2</th>\n",
       "      <td>Ajax</td>\n",
       "      <td>Ont.</td>\n",
       "      <td>126666</td>\n",
       "      <td>119677</td>\n",
       "    </tr>\n",
       "    <tr>\n",
       "      <th>3</th>\n",
       "      <td>Alma</td>\n",
       "      <td>Que.</td>\n",
       "      <td>30331</td>\n",
       "      <td>30771</td>\n",
       "    </tr>\n",
       "    <tr>\n",
       "      <th>4</th>\n",
       "      <td>Aurora</td>\n",
       "      <td>Ont.</td>\n",
       "      <td>62057</td>\n",
       "      <td>55445</td>\n",
       "    </tr>\n",
       "    <tr>\n",
       "      <th>5</th>\n",
       "      <td>Barrie</td>\n",
       "      <td>Ont.</td>\n",
       "      <td>147829</td>\n",
       "      <td>141434</td>\n",
       "    </tr>\n",
       "    <tr>\n",
       "      <th>6</th>\n",
       "      <td>Belleville</td>\n",
       "      <td>Ont.</td>\n",
       "      <td>55071</td>\n",
       "      <td>50716</td>\n",
       "    </tr>\n",
       "    <tr>\n",
       "      <th>7</th>\n",
       "      <td>Blainville</td>\n",
       "      <td>Que.</td>\n",
       "      <td>59819</td>\n",
       "      <td>56863</td>\n",
       "    </tr>\n",
       "    <tr>\n",
       "      <th>8</th>\n",
       "      <td>Boisbriand</td>\n",
       "      <td>Que.</td>\n",
       "      <td>28308</td>\n",
       "      <td>26884</td>\n",
       "    </tr>\n",
       "    <tr>\n",
       "      <th>9</th>\n",
       "      <td>Boucherville</td>\n",
       "      <td>Que.</td>\n",
       "      <td>41743</td>\n",
       "      <td>41671</td>\n",
       "    </tr>\n",
       "  </tbody>\n",
       "</table>\n",
       "</div>"
      ],
      "text/plain": [
       "           Name Prov/terr  Population, 2021  Population, 2016\n",
       "0    Abbotsford      B.C.            153524            141397\n",
       "1       Airdrie     Alta.             74100             61581\n",
       "2          Ajax      Ont.            126666            119677\n",
       "3          Alma      Que.             30331             30771\n",
       "4        Aurora      Ont.             62057             55445\n",
       "5        Barrie      Ont.            147829            141434\n",
       "6    Belleville      Ont.             55071             50716\n",
       "7    Blainville      Que.             59819             56863\n",
       "8    Boisbriand      Que.             28308             26884\n",
       "9  Boucherville      Que.             41743             41671"
      ]
     },
     "execution_count": 3,
     "metadata": {},
     "output_type": "execute_result"
    }
   ],
   "source": [
    "df.head(10)"
   ]
  },
  {
   "cell_type": "markdown",
   "id": "a7146c67-bb6c-4c83-86cf-64114cd14ef6",
   "metadata": {},
   "source": [
    "Notice that each column has a unique name. We can view the data of this column alone by using that name, and see what unique values exist using `.unique()`. **Try viewing the data of another column**. Beware of upper and lower case -- exact names matter."
   ]
  },
  {
   "cell_type": "code",
   "execution_count": 4,
   "id": "ce82ad67-e44e-4a8d-ae25-5d5bd73a11cc",
   "metadata": {},
   "outputs": [
    {
     "data": {
      "text/plain": [
       "0     B.C.\n",
       "1    Alta.\n",
       "2     Ont.\n",
       "3     Que.\n",
       "4     Ont.\n",
       "5     Ont.\n",
       "6     Ont.\n",
       "7     Que.\n",
       "8     Que.\n",
       "9     Que.\n",
       "Name: Prov/terr, dtype: object"
      ]
     },
     "execution_count": 4,
     "metadata": {},
     "output_type": "execute_result"
    }
   ],
   "source": [
    "df['Prov/terr'].head(10)  # Top 10 only"
   ]
  },
  {
   "cell_type": "code",
   "execution_count": 5,
   "id": "3c75d9c6-ad34-463d-94dc-824d82ad52cb",
   "metadata": {},
   "outputs": [
    {
     "data": {
      "text/plain": [
       "array(['B.C.', 'Alta.', 'Ont.', 'Que.', 'Man.', 'N.S.', 'P.E.I.', 'N.L.',\n",
       "       'N.B.', 'Sask.', 'Y.T.'], dtype=object)"
      ]
     },
     "execution_count": 5,
     "metadata": {},
     "output_type": "execute_result"
    }
   ],
   "source": [
    "df['Prov/terr'].unique()  # Unique values for the *full* dataset - what happens if you do df['Prov/terr'].head(10).unique()?"
   ]
  },
  {
   "cell_type": "markdown",
   "id": "780687b7-6a07-4c82-ab4d-499ea7644955",
   "metadata": {},
   "source": [
    "### Filtering and sorting data"
   ]
  },
  {
   "cell_type": "markdown",
   "id": "4150f657-e5df-45fb-aeb2-4df917e92c87",
   "metadata": {},
   "source": [
    "We can use the columns to identify data that we might want to filter by. The line below shows data only for Ontario, **but see if you can filter for another province or territory**."
   ]
  },
  {
   "cell_type": "code",
   "execution_count": 6,
   "id": "3d291a78-7d41-4e76-bddc-4f3c72484642",
   "metadata": {},
   "outputs": [
    {
     "data": {
      "text/html": [
       "<div>\n",
       "<style scoped>\n",
       "    .dataframe tbody tr th:only-of-type {\n",
       "        vertical-align: middle;\n",
       "    }\n",
       "\n",
       "    .dataframe tbody tr th {\n",
       "        vertical-align: top;\n",
       "    }\n",
       "\n",
       "    .dataframe thead th {\n",
       "        text-align: right;\n",
       "    }\n",
       "</style>\n",
       "<table border=\"1\" class=\"dataframe\">\n",
       "  <thead>\n",
       "    <tr style=\"text-align: right;\">\n",
       "      <th></th>\n",
       "      <th>Name</th>\n",
       "      <th>Prov/terr</th>\n",
       "      <th>Population, 2021</th>\n",
       "      <th>Population, 2016</th>\n",
       "    </tr>\n",
       "  </thead>\n",
       "  <tbody>\n",
       "    <tr>\n",
       "      <th>2</th>\n",
       "      <td>Ajax</td>\n",
       "      <td>Ont.</td>\n",
       "      <td>126666</td>\n",
       "      <td>119677</td>\n",
       "    </tr>\n",
       "    <tr>\n",
       "      <th>4</th>\n",
       "      <td>Aurora</td>\n",
       "      <td>Ont.</td>\n",
       "      <td>62057</td>\n",
       "      <td>55445</td>\n",
       "    </tr>\n",
       "    <tr>\n",
       "      <th>5</th>\n",
       "      <td>Barrie</td>\n",
       "      <td>Ont.</td>\n",
       "      <td>147829</td>\n",
       "      <td>141434</td>\n",
       "    </tr>\n",
       "    <tr>\n",
       "      <th>6</th>\n",
       "      <td>Belleville</td>\n",
       "      <td>Ont.</td>\n",
       "      <td>55071</td>\n",
       "      <td>50716</td>\n",
       "    </tr>\n",
       "    <tr>\n",
       "      <th>10</th>\n",
       "      <td>Bradford West Gwillimbury</td>\n",
       "      <td>Ont.</td>\n",
       "      <td>42880</td>\n",
       "      <td>35325</td>\n",
       "    </tr>\n",
       "    <tr>\n",
       "      <th>...</th>\n",
       "      <td>...</td>\n",
       "      <td>...</td>\n",
       "      <td>...</td>\n",
       "      <td>...</td>\n",
       "    </tr>\n",
       "    <tr>\n",
       "      <th>171</th>\n",
       "      <td>Whitby</td>\n",
       "      <td>Ont.</td>\n",
       "      <td>138501</td>\n",
       "      <td>128377</td>\n",
       "    </tr>\n",
       "    <tr>\n",
       "      <th>172</th>\n",
       "      <td>Whitchurch-Stouffville</td>\n",
       "      <td>Ont.</td>\n",
       "      <td>49864</td>\n",
       "      <td>45837</td>\n",
       "    </tr>\n",
       "    <tr>\n",
       "      <th>174</th>\n",
       "      <td>Windsor</td>\n",
       "      <td>Ont.</td>\n",
       "      <td>229660</td>\n",
       "      <td>217188</td>\n",
       "    </tr>\n",
       "    <tr>\n",
       "      <th>177</th>\n",
       "      <td>Woodstock</td>\n",
       "      <td>Ont.</td>\n",
       "      <td>46705</td>\n",
       "      <td>41098</td>\n",
       "    </tr>\n",
       "    <tr>\n",
       "      <th>178</th>\n",
       "      <td>Woolwich</td>\n",
       "      <td>Ont.</td>\n",
       "      <td>26999</td>\n",
       "      <td>25006</td>\n",
       "    </tr>\n",
       "  </tbody>\n",
       "</table>\n",
       "<p>69 rows × 4 columns</p>\n",
       "</div>"
      ],
      "text/plain": [
       "                          Name Prov/terr  Population, 2021  Population, 2016\n",
       "2                         Ajax      Ont.            126666            119677\n",
       "4                       Aurora      Ont.             62057             55445\n",
       "5                       Barrie      Ont.            147829            141434\n",
       "6                   Belleville      Ont.             55071             50716\n",
       "10   Bradford West Gwillimbury      Ont.             42880             35325\n",
       "..                         ...       ...               ...               ...\n",
       "171                     Whitby      Ont.            138501            128377\n",
       "172     Whitchurch-Stouffville      Ont.             49864             45837\n",
       "174                    Windsor      Ont.            229660            217188\n",
       "177                  Woodstock      Ont.             46705             41098\n",
       "178                   Woolwich      Ont.             26999             25006\n",
       "\n",
       "[69 rows x 4 columns]"
      ]
     },
     "execution_count": 6,
     "metadata": {},
     "output_type": "execute_result"
    }
   ],
   "source": [
    "df.loc[df['Prov/terr'] == 'Ont.']"
   ]
  },
  {
   "cell_type": "markdown",
   "id": "73a6b762-3681-4fa4-84e6-af97f69a351e",
   "metadata": {},
   "source": [
    "Pandas allows us to use other similar mathematical concepts filter for data. Previously, we asked for all data in Ontario. **Now, filter for all cities which had a population of at least 100,000 in 2021**.\n",
    "\n",
    "HINT: in Python, \"greater than or equals to\" (i.e., \"at least\") is represented using the syntax `>=`."
   ]
  },
  {
   "cell_type": "code",
   "execution_count": null,
   "id": "ed2dabf8-a5fe-42c5-bd8b-a8c053564eb3",
   "metadata": {},
   "outputs": [],
   "source": []
  },
  {
   "cell_type": "markdown",
   "id": "d1271b2a-ca8a-4702-b317-c3f5faca1e8d",
   "metadata": {},
   "source": [
    "Pandas also allows us to combine filtering conditions. **Use the template below to select for all cities in Ontario with a population of over 100,000 in 2021**."
   ]
  },
  {
   "cell_type": "code",
   "execution_count": null,
   "id": "2a8d8d8d-56c3-41f2-bc0d-fb83d7dde541",
   "metadata": {},
   "outputs": [],
   "source": [
    "df.loc[(df[\"Prov/terr\"] == \"Ont.\") & (YOUR CONDITION HERE)]"
   ]
  },
  {
   "cell_type": "markdown",
   "id": "62836a7c-939d-434d-85b0-97185599fdf5",
   "metadata": {},
   "source": [
    "Now let's count how many cities actually meet these conditions. Run the line below to see how many cities there are in this data set in Ontario."
   ]
  },
  {
   "cell_type": "code",
   "execution_count": 7,
   "id": "7bb688d2-4188-4fe9-ac30-88029e5efbb8",
   "metadata": {},
   "outputs": [
    {
     "data": {
      "text/plain": [
       "Name                69\n",
       "Prov/terr           69\n",
       "Population, 2021    69\n",
       "Population, 2016    69\n",
       "dtype: int64"
      ]
     },
     "execution_count": 7,
     "metadata": {},
     "output_type": "execute_result"
    }
   ],
   "source": [
    "df.loc[df['Prov/terr'] == 'Ont.'].count()"
   ]
  },
  {
   "cell_type": "markdown",
   "id": "ae01e04a-09fe-475d-a9fd-f94c7423a558",
   "metadata": {},
   "source": [
    "The function `.count()` tells us how much data there is for each column - but if we wanted to just see one column, we could also filter for that individual column using `df[COL_NAME]`. **Try a different condition and count the amount of data for it**."
   ]
  },
  {
   "cell_type": "code",
   "execution_count": null,
   "id": "542ef3b2-01d5-4897-a7d4-dff404e39b25",
   "metadata": {},
   "outputs": [],
   "source": []
  },
  {
   "cell_type": "markdown",
   "id": "7c93f7a4-0f72-455b-81fe-9771f441a21f",
   "metadata": {},
   "source": [
    "You might have noticed that these cities are in alphabetical order - what if we wanted to see them in the order of population? In pandas, we do this using the [sort_values](https://pandas.pydata.org/docs/reference/api/pandas.DataFrame.sort_values.html) function. The default is to sort in ascending order, so we set this to be `False` (i.e. descending) so the most populous cities are at the top."
   ]
  },
  {
   "cell_type": "code",
   "execution_count": 8,
   "id": "b287a54b-b162-4fd5-9b84-7100f148e2ac",
   "metadata": {},
   "outputs": [
    {
     "data": {
      "text/html": [
       "<div>\n",
       "<style scoped>\n",
       "    .dataframe tbody tr th:only-of-type {\n",
       "        vertical-align: middle;\n",
       "    }\n",
       "\n",
       "    .dataframe tbody tr th {\n",
       "        vertical-align: top;\n",
       "    }\n",
       "\n",
       "    .dataframe thead th {\n",
       "        text-align: right;\n",
       "    }\n",
       "</style>\n",
       "<table border=\"1\" class=\"dataframe\">\n",
       "  <thead>\n",
       "    <tr style=\"text-align: right;\">\n",
       "      <th></th>\n",
       "      <th>Name</th>\n",
       "      <th>Prov/terr</th>\n",
       "      <th>Population, 2021</th>\n",
       "      <th>Population, 2016</th>\n",
       "    </tr>\n",
       "  </thead>\n",
       "  <tbody>\n",
       "    <tr>\n",
       "      <th>158</th>\n",
       "      <td>Toronto</td>\n",
       "      <td>Ont.</td>\n",
       "      <td>2794356</td>\n",
       "      <td>2731571</td>\n",
       "    </tr>\n",
       "    <tr>\n",
       "      <th>89</th>\n",
       "      <td>Montréal</td>\n",
       "      <td>Que.</td>\n",
       "      <td>1762949</td>\n",
       "      <td>1704694</td>\n",
       "    </tr>\n",
       "    <tr>\n",
       "      <th>19</th>\n",
       "      <td>Calgary</td>\n",
       "      <td>Alta.</td>\n",
       "      <td>1306784</td>\n",
       "      <td>1239220</td>\n",
       "    </tr>\n",
       "    <tr>\n",
       "      <th>106</th>\n",
       "      <td>Ottawa</td>\n",
       "      <td>Ont.</td>\n",
       "      <td>1017449</td>\n",
       "      <td>934243</td>\n",
       "    </tr>\n",
       "    <tr>\n",
       "      <th>42</th>\n",
       "      <td>Edmonton</td>\n",
       "      <td>Alta.</td>\n",
       "      <td>1010899</td>\n",
       "      <td>933088</td>\n",
       "    </tr>\n",
       "    <tr>\n",
       "      <th>...</th>\n",
       "      <td>...</td>\n",
       "      <td>...</td>\n",
       "      <td>...</td>\n",
       "      <td>...</td>\n",
       "    </tr>\n",
       "    <tr>\n",
       "      <th>130</th>\n",
       "      <td>Saint-Bruno-de-Montarville</td>\n",
       "      <td>Que.</td>\n",
       "      <td>26273</td>\n",
       "      <td>26197</td>\n",
       "    </tr>\n",
       "    <tr>\n",
       "      <th>155</th>\n",
       "      <td>Thetford Mines</td>\n",
       "      <td>Que.</td>\n",
       "      <td>26072</td>\n",
       "      <td>25403</td>\n",
       "    </tr>\n",
       "    <tr>\n",
       "      <th>75</th>\n",
       "      <td>Lincoln</td>\n",
       "      <td>Ont.</td>\n",
       "      <td>25719</td>\n",
       "      <td>23787</td>\n",
       "    </tr>\n",
       "    <tr>\n",
       "      <th>115</th>\n",
       "      <td>Prince Edward County</td>\n",
       "      <td>Ont.</td>\n",
       "      <td>25704</td>\n",
       "      <td>24735</td>\n",
       "    </tr>\n",
       "    <tr>\n",
       "      <th>78</th>\n",
       "      <td>Lunenburg</td>\n",
       "      <td>N.S.</td>\n",
       "      <td>25545</td>\n",
       "      <td>24863</td>\n",
       "    </tr>\n",
       "  </tbody>\n",
       "</table>\n",
       "<p>179 rows × 4 columns</p>\n",
       "</div>"
      ],
      "text/plain": [
       "                           Name Prov/terr  Population, 2021  Population, 2016\n",
       "158                     Toronto      Ont.           2794356           2731571\n",
       "89                     Montréal      Que.           1762949           1704694\n",
       "19                      Calgary     Alta.           1306784           1239220\n",
       "106                      Ottawa      Ont.           1017449            934243\n",
       "42                     Edmonton     Alta.           1010899            933088\n",
       "..                          ...       ...               ...               ...\n",
       "130  Saint-Bruno-de-Montarville      Que.             26273             26197\n",
       "155              Thetford Mines      Que.             26072             25403\n",
       "75                      Lincoln      Ont.             25719             23787\n",
       "115        Prince Edward County      Ont.             25704             24735\n",
       "78                    Lunenburg      N.S.             25545             24863\n",
       "\n",
       "[179 rows x 4 columns]"
      ]
     },
     "execution_count": 8,
     "metadata": {},
     "output_type": "execute_result"
    }
   ],
   "source": [
    "df.sort_values(by='Population, 2021', ascending=False)"
   ]
  },
  {
   "cell_type": "markdown",
   "id": "fced26d8-96d8-4696-b036-695cb30fa4b6",
   "metadata": {},
   "source": [
    "Let's put some in this together now. **Filter the data to show all cities which are in the province of Quebec with at least a population of 50,000 in 2016, and make sure to sort the cities by their 2016 population**.\n",
    "\n",
    "HINT: You can do this in two steps (which is more readable) by storing the data that you filter into a variable called `df_filtered`, then running the command to sort the values on `df_filtered`."
   ]
  },
  {
   "cell_type": "code",
   "execution_count": null,
   "id": "478284c0-0d8e-4c32-b640-2997bef67b1f",
   "metadata": {},
   "outputs": [],
   "source": []
  },
  {
   "cell_type": "markdown",
   "id": "7277ea63-e195-4e8c-988a-651c647fa5f2",
   "metadata": {},
   "source": [
    "## Frame physics: modifying DataFrames"
   ]
  },
  {
   "cell_type": "markdown",
   "id": "a209adfa-e756-43e7-81c6-62ea737f7e75",
   "metadata": {},
   "source": [
    "### Cleaning, renaming, and NaNs"
   ]
  },
  {
   "cell_type": "markdown",
   "id": "e518fa8c-e311-40c9-8a32-591b861bf70e",
   "metadata": {},
   "source": [
    "Often, the data we have might not be in the condition want it to be in. Some data might be missing, and other data might have odd naming conventions."
   ]
  },
  {
   "cell_type": "markdown",
   "id": "52910d02-be57-4224-b4d1-83db8f434c7c",
   "metadata": {},
   "source": [
    "A simple example is that we might want all city names to be lowercase - which is what the code below does."
   ]
  },
  {
   "cell_type": "code",
   "execution_count": 9,
   "id": "8b5a6d07-f1c7-4967-98d8-89838a4801c8",
   "metadata": {},
   "outputs": [
    {
     "data": {
      "text/html": [
       "<div>\n",
       "<style scoped>\n",
       "    .dataframe tbody tr th:only-of-type {\n",
       "        vertical-align: middle;\n",
       "    }\n",
       "\n",
       "    .dataframe tbody tr th {\n",
       "        vertical-align: top;\n",
       "    }\n",
       "\n",
       "    .dataframe thead th {\n",
       "        text-align: right;\n",
       "    }\n",
       "</style>\n",
       "<table border=\"1\" class=\"dataframe\">\n",
       "  <thead>\n",
       "    <tr style=\"text-align: right;\">\n",
       "      <th></th>\n",
       "      <th>Name</th>\n",
       "      <th>Prov/terr</th>\n",
       "      <th>Population, 2021</th>\n",
       "      <th>Population, 2016</th>\n",
       "    </tr>\n",
       "  </thead>\n",
       "  <tbody>\n",
       "    <tr>\n",
       "      <th>0</th>\n",
       "      <td>abbotsford</td>\n",
       "      <td>B.C.</td>\n",
       "      <td>153524</td>\n",
       "      <td>141397</td>\n",
       "    </tr>\n",
       "    <tr>\n",
       "      <th>1</th>\n",
       "      <td>airdrie</td>\n",
       "      <td>Alta.</td>\n",
       "      <td>74100</td>\n",
       "      <td>61581</td>\n",
       "    </tr>\n",
       "    <tr>\n",
       "      <th>2</th>\n",
       "      <td>ajax</td>\n",
       "      <td>Ont.</td>\n",
       "      <td>126666</td>\n",
       "      <td>119677</td>\n",
       "    </tr>\n",
       "    <tr>\n",
       "      <th>3</th>\n",
       "      <td>alma</td>\n",
       "      <td>Que.</td>\n",
       "      <td>30331</td>\n",
       "      <td>30771</td>\n",
       "    </tr>\n",
       "    <tr>\n",
       "      <th>4</th>\n",
       "      <td>aurora</td>\n",
       "      <td>Ont.</td>\n",
       "      <td>62057</td>\n",
       "      <td>55445</td>\n",
       "    </tr>\n",
       "    <tr>\n",
       "      <th>...</th>\n",
       "      <td>...</td>\n",
       "      <td>...</td>\n",
       "      <td>...</td>\n",
       "      <td>...</td>\n",
       "    </tr>\n",
       "    <tr>\n",
       "      <th>174</th>\n",
       "      <td>windsor</td>\n",
       "      <td>Ont.</td>\n",
       "      <td>229660</td>\n",
       "      <td>217188</td>\n",
       "    </tr>\n",
       "    <tr>\n",
       "      <th>175</th>\n",
       "      <td>winnipeg</td>\n",
       "      <td>Man.</td>\n",
       "      <td>749607</td>\n",
       "      <td>705244</td>\n",
       "    </tr>\n",
       "    <tr>\n",
       "      <th>176</th>\n",
       "      <td>wood buffalo</td>\n",
       "      <td>Alta.</td>\n",
       "      <td>72326</td>\n",
       "      <td>71594</td>\n",
       "    </tr>\n",
       "    <tr>\n",
       "      <th>177</th>\n",
       "      <td>woodstock</td>\n",
       "      <td>Ont.</td>\n",
       "      <td>46705</td>\n",
       "      <td>41098</td>\n",
       "    </tr>\n",
       "    <tr>\n",
       "      <th>178</th>\n",
       "      <td>woolwich</td>\n",
       "      <td>Ont.</td>\n",
       "      <td>26999</td>\n",
       "      <td>25006</td>\n",
       "    </tr>\n",
       "  </tbody>\n",
       "</table>\n",
       "<p>179 rows × 4 columns</p>\n",
       "</div>"
      ],
      "text/plain": [
       "             Name Prov/terr  Population, 2021  Population, 2016\n",
       "0      abbotsford      B.C.            153524            141397\n",
       "1         airdrie     Alta.             74100             61581\n",
       "2            ajax      Ont.            126666            119677\n",
       "3            alma      Que.             30331             30771\n",
       "4          aurora      Ont.             62057             55445\n",
       "..            ...       ...               ...               ...\n",
       "174       windsor      Ont.            229660            217188\n",
       "175      winnipeg      Man.            749607            705244\n",
       "176  wood buffalo     Alta.             72326             71594\n",
       "177     woodstock      Ont.             46705             41098\n",
       "178      woolwich      Ont.             26999             25006\n",
       "\n",
       "[179 rows x 4 columns]"
      ]
     },
     "execution_count": 9,
     "metadata": {},
     "output_type": "execute_result"
    }
   ],
   "source": [
    "df['Name'] = df['Name'].str.lower()\n",
    "df"
   ]
  },
  {
   "cell_type": "markdown",
   "id": "05ba8963-ae7f-4789-b6af-f04b2a67e733",
   "metadata": {},
   "source": [
    "Pandas has a number of methods like `str.lower()` (see the [full API](https://pandas.pydata.org/docs/reference/index.html)) - but that isn't the important thing here. In this case, notice that we directly modified the existing values of a column. We might not always want to do this, but often it is a good way of saving memory and shows that data frames are not just static forms but modifiable."
   ]
  },
  {
   "cell_type": "markdown",
   "id": "3cf03f37-e795-4bb7-8e9f-006ad552ca6e",
   "metadata": {},
   "source": [
    "Likewise, we might want better names for the columns we have. **Take a look at the [API for `.rename()`](https://pandas.pydata.org/docs/reference/api/pandas.DataFrame.rename.html) and modify the data frame `df` such that we rename the column `Name` to `City`**. Pandas has more methods than we could ever remember - so learning to navigate the API is a crucial part of using the library.\n",
    "\n",
    "HINT: Take a look at the first example"
   ]
  },
  {
   "cell_type": "code",
   "execution_count": null,
   "id": "eb48bde4-b516-4031-83f6-f2faecc0e366",
   "metadata": {},
   "outputs": [],
   "source": []
  },
  {
   "cell_type": "markdown",
   "id": "855b3ed6-8a66-44e7-a19b-d261dce9287e",
   "metadata": {},
   "source": [
    "Lastly, our data might be missing values. This can create complications when we want to produce summary statistics or visualizations. There are different strategies for dealing with this (i.e., imputing data),  but the easiest is just to remove them. But first come out let's check how much data is missing."
   ]
  },
  {
   "cell_type": "code",
   "execution_count": 16,
   "id": "6107e955-fdb9-458e-a4a2-ed614b8f9c6b",
   "metadata": {},
   "outputs": [
    {
     "data": {
      "text/plain": [
       "Name                3\n",
       "Prov/terr           4\n",
       "Population, 2021    3\n",
       "Population, 2016    4\n",
       "dtype: int64"
      ]
     },
     "execution_count": 16,
     "metadata": {},
     "output_type": "execute_result"
    }
   ],
   "source": [
    "df.isnull().sum()"
   ]
  },
  {
   "cell_type": "markdown",
   "id": "c7c5cb78-cd3b-4703-aa65-ba5cb80133b3",
   "metadata": {},
   "source": [
    "It seems that each column has a couple of data points missing. Let's take a look at which rows these occur in. Similar to how we created a condition to filter for certain data, the code below creates a condition to filter for rows with missing data."
   ]
  },
  {
   "cell_type": "code",
   "execution_count": 15,
   "id": "b67e69d4-22ce-47b6-9f8c-8f983e1e4d86",
   "metadata": {},
   "outputs": [
    {
     "data": {
      "text/html": [
       "<div>\n",
       "<style scoped>\n",
       "    .dataframe tbody tr th:only-of-type {\n",
       "        vertical-align: middle;\n",
       "    }\n",
       "\n",
       "    .dataframe tbody tr th {\n",
       "        vertical-align: top;\n",
       "    }\n",
       "\n",
       "    .dataframe thead th {\n",
       "        text-align: right;\n",
       "    }\n",
       "</style>\n",
       "<table border=\"1\" class=\"dataframe\">\n",
       "  <thead>\n",
       "    <tr style=\"text-align: right;\">\n",
       "      <th></th>\n",
       "      <th>Name</th>\n",
       "      <th>Prov/terr</th>\n",
       "      <th>Population, 2021</th>\n",
       "      <th>Population, 2016</th>\n",
       "    </tr>\n",
       "  </thead>\n",
       "  <tbody>\n",
       "    <tr>\n",
       "      <th>7</th>\n",
       "      <td>Blainville</td>\n",
       "      <td>Que.</td>\n",
       "      <td>59819.0</td>\n",
       "      <td>NaN</td>\n",
       "    </tr>\n",
       "    <tr>\n",
       "      <th>18</th>\n",
       "      <td>Caledon</td>\n",
       "      <td>NaN</td>\n",
       "      <td>76581.0</td>\n",
       "      <td>66502.0</td>\n",
       "    </tr>\n",
       "    <tr>\n",
       "      <th>30</th>\n",
       "      <td>NaN</td>\n",
       "      <td>Ont.</td>\n",
       "      <td>101427.0</td>\n",
       "      <td>92013.0</td>\n",
       "    </tr>\n",
       "    <tr>\n",
       "      <th>40</th>\n",
       "      <td>Drummondville</td>\n",
       "      <td>Que.</td>\n",
       "      <td>NaN</td>\n",
       "      <td>75423.0</td>\n",
       "    </tr>\n",
       "    <tr>\n",
       "      <th>51</th>\n",
       "      <td>Grimsby</td>\n",
       "      <td>Ont.</td>\n",
       "      <td>28883.0</td>\n",
       "      <td>NaN</td>\n",
       "    </tr>\n",
       "    <tr>\n",
       "      <th>64</th>\n",
       "      <td>La Prairie</td>\n",
       "      <td>NaN</td>\n",
       "      <td>26406.0</td>\n",
       "      <td>24110.0</td>\n",
       "    </tr>\n",
       "    <tr>\n",
       "      <th>78</th>\n",
       "      <td>NaN</td>\n",
       "      <td>N.S.</td>\n",
       "      <td>25545.0</td>\n",
       "      <td>24863.0</td>\n",
       "    </tr>\n",
       "    <tr>\n",
       "      <th>86</th>\n",
       "      <td>Mission</td>\n",
       "      <td>NaN</td>\n",
       "      <td>41519.0</td>\n",
       "      <td>38554.0</td>\n",
       "    </tr>\n",
       "    <tr>\n",
       "      <th>109</th>\n",
       "      <td>Peterborough</td>\n",
       "      <td>Ont.</td>\n",
       "      <td>NaN</td>\n",
       "      <td>NaN</td>\n",
       "    </tr>\n",
       "    <tr>\n",
       "      <th>131</th>\n",
       "      <td>NaN</td>\n",
       "      <td>Que.</td>\n",
       "      <td>29954.0</td>\n",
       "      <td>27359.0</td>\n",
       "    </tr>\n",
       "    <tr>\n",
       "      <th>157</th>\n",
       "      <td>Timmins</td>\n",
       "      <td>NaN</td>\n",
       "      <td>41145.0</td>\n",
       "      <td>41788.0</td>\n",
       "    </tr>\n",
       "    <tr>\n",
       "      <th>169</th>\n",
       "      <td>West Kelowna</td>\n",
       "      <td>B.C.</td>\n",
       "      <td>NaN</td>\n",
       "      <td>NaN</td>\n",
       "    </tr>\n",
       "  </tbody>\n",
       "</table>\n",
       "</div>"
      ],
      "text/plain": [
       "              Name Prov/terr  Population, 2021  Population, 2016\n",
       "7       Blainville      Que.           59819.0               NaN\n",
       "18         Caledon       NaN           76581.0           66502.0\n",
       "30             NaN      Ont.          101427.0           92013.0\n",
       "40   Drummondville      Que.               NaN           75423.0\n",
       "51         Grimsby      Ont.           28883.0               NaN\n",
       "64      La Prairie       NaN           26406.0           24110.0\n",
       "78             NaN      N.S.           25545.0           24863.0\n",
       "86         Mission       NaN           41519.0           38554.0\n",
       "109   Peterborough      Ont.               NaN               NaN\n",
       "131            NaN      Que.           29954.0           27359.0\n",
       "157        Timmins       NaN           41145.0           41788.0\n",
       "169   West Kelowna      B.C.               NaN               NaN"
      ]
     },
     "execution_count": 15,
     "metadata": {},
     "output_type": "execute_result"
    }
   ],
   "source": [
    "df.loc[df.isnull().any(axis=1)]"
   ]
  },
  {
   "cell_type": "markdown",
   "id": "cfaaa12e-f456-4f4a-b6d9-99c1ce709daf",
   "metadata": {},
   "source": [
    "You can see that some rows are missing multiple values, While others are just missing one. We can remove rows which have missing data using the function [dropna](https://pandas.pydata.org/docs/reference/api/pandas.DataFrame.dropna.html) and assign it to `df` so we're working with complete data only going forward. **Modify the code below to drop rows whose empty values are in one of the two population columns - that is, if the name or province is missing, we want to keep that row still**. Look at the API to figure this out, specifically the argument `subset` for `.dropna()`"
   ]
  },
  {
   "cell_type": "code",
   "execution_count": 17,
   "id": "064cd644-4e56-4c2c-8479-68de04c28a3a",
   "metadata": {},
   "outputs": [],
   "source": [
    "df = df.dropna()"
   ]
  },
  {
   "cell_type": "code",
   "execution_count": 19,
   "id": "57e063a2-bbbe-4ad2-86c0-558c42e36145",
   "metadata": {},
   "outputs": [
    {
     "data": {
      "text/html": [
       "<div>\n",
       "<style scoped>\n",
       "    .dataframe tbody tr th:only-of-type {\n",
       "        vertical-align: middle;\n",
       "    }\n",
       "\n",
       "    .dataframe tbody tr th {\n",
       "        vertical-align: top;\n",
       "    }\n",
       "\n",
       "    .dataframe thead th {\n",
       "        text-align: right;\n",
       "    }\n",
       "</style>\n",
       "<table border=\"1\" class=\"dataframe\">\n",
       "  <thead>\n",
       "    <tr style=\"text-align: right;\">\n",
       "      <th></th>\n",
       "      <th>Name</th>\n",
       "      <th>Prov/terr</th>\n",
       "      <th>Population, 2021</th>\n",
       "      <th>Population, 2016</th>\n",
       "    </tr>\n",
       "  </thead>\n",
       "  <tbody>\n",
       "  </tbody>\n",
       "</table>\n",
       "</div>"
      ],
      "text/plain": [
       "Empty DataFrame\n",
       "Columns: [Name, Prov/terr, Population, 2021, Population, 2016]\n",
       "Index: []"
      ]
     },
     "execution_count": 19,
     "metadata": {},
     "output_type": "execute_result"
    }
   ],
   "source": [
    "df.loc[df.isnull().any(axis=1)]"
   ]
  },
  {
   "cell_type": "markdown",
   "id": "bedbcc21-4498-4deb-8ca7-186feb069870",
   "metadata": {},
   "source": [
    "Great. Now let's reset to our original data frame and exclude any missing values."
   ]
  },
  {
   "cell_type": "code",
   "execution_count": 23,
   "id": "dcf9e83d-59b2-47f9-ae25-56cc4632732d",
   "metadata": {},
   "outputs": [],
   "source": [
    "df = pd.read_csv(\"data/cities.csv\")\n",
    "df = df.dropna()"
   ]
  },
  {
   "cell_type": "markdown",
   "id": "b05c60a6-4ead-428f-af0e-c292cafb5fd3",
   "metadata": {},
   "source": [
    "### Creating new columns "
   ]
  },
  {
   "cell_type": "markdown",
   "id": "63928bd6-400c-46ca-962d-4c9a3f71206c",
   "metadata": {},
   "source": [
    "We can add or delete columns as needed. Let's first add a column which shows the change in population between 2021 and 2016 and then sort by the cities that lost the most people."
   ]
  },
  {
   "cell_type": "code",
   "execution_count": 24,
   "id": "91f7bffb-dc82-49bb-b10d-a21382d192d3",
   "metadata": {},
   "outputs": [
    {
     "data": {
      "text/html": [
       "<div>\n",
       "<style scoped>\n",
       "    .dataframe tbody tr th:only-of-type {\n",
       "        vertical-align: middle;\n",
       "    }\n",
       "\n",
       "    .dataframe tbody tr th {\n",
       "        vertical-align: top;\n",
       "    }\n",
       "\n",
       "    .dataframe thead th {\n",
       "        text-align: right;\n",
       "    }\n",
       "</style>\n",
       "<table border=\"1\" class=\"dataframe\">\n",
       "  <thead>\n",
       "    <tr style=\"text-align: right;\">\n",
       "      <th></th>\n",
       "      <th>Name</th>\n",
       "      <th>Prov/terr</th>\n",
       "      <th>Population, 2021</th>\n",
       "      <th>Population, 2016</th>\n",
       "      <th>raw_pop_change</th>\n",
       "    </tr>\n",
       "  </thead>\n",
       "  <tbody>\n",
       "    <tr>\n",
       "      <th>158</th>\n",
       "      <td>Toronto</td>\n",
       "      <td>Ont.</td>\n",
       "      <td>2794356.0</td>\n",
       "      <td>2731571.0</td>\n",
       "      <td>62785.0</td>\n",
       "    </tr>\n",
       "    <tr>\n",
       "      <th>11</th>\n",
       "      <td>Brampton</td>\n",
       "      <td>Ont.</td>\n",
       "      <td>656480.0</td>\n",
       "      <td>593638.0</td>\n",
       "      <td>62842.0</td>\n",
       "    </tr>\n",
       "    <tr>\n",
       "      <th>19</th>\n",
       "      <td>Calgary</td>\n",
       "      <td>Alta.</td>\n",
       "      <td>1306784.0</td>\n",
       "      <td>1239220.0</td>\n",
       "      <td>67564.0</td>\n",
       "    </tr>\n",
       "    <tr>\n",
       "      <th>42</th>\n",
       "      <td>Edmonton</td>\n",
       "      <td>Alta.</td>\n",
       "      <td>1010899.0</td>\n",
       "      <td>933088.0</td>\n",
       "      <td>77811.0</td>\n",
       "    </tr>\n",
       "    <tr>\n",
       "      <th>106</th>\n",
       "      <td>Ottawa</td>\n",
       "      <td>Ont.</td>\n",
       "      <td>1017449.0</td>\n",
       "      <td>934243.0</td>\n",
       "      <td>83206.0</td>\n",
       "    </tr>\n",
       "  </tbody>\n",
       "</table>\n",
       "</div>"
      ],
      "text/plain": [
       "         Name Prov/terr  Population, 2021  Population, 2016  raw_pop_change\n",
       "158   Toronto      Ont.         2794356.0         2731571.0         62785.0\n",
       "11   Brampton      Ont.          656480.0          593638.0         62842.0\n",
       "19    Calgary     Alta.         1306784.0         1239220.0         67564.0\n",
       "42   Edmonton     Alta.         1010899.0          933088.0         77811.0\n",
       "106    Ottawa      Ont.         1017449.0          934243.0         83206.0"
      ]
     },
     "execution_count": 24,
     "metadata": {},
     "output_type": "execute_result"
    }
   ],
   "source": [
    "df[\"raw_pop_change\"] = df[\"Population, 2021\"] - df[\"Population, 2016\"]\n",
    "df.sort_values(\"raw_pop_change\").tail(5)"
   ]
  },
  {
   "cell_type": "markdown",
   "id": "d3bc6576-c636-42d6-9863-228ae2e97c84",
   "metadata": {},
   "source": [
    "Pandas supports mathematical equations between columns, just like the subtraction we did above. **Create a new column called `pct_pop_change` that computes the percentage change in population between 2016 and 2021, and sort by the cities with the greatest increase**.\n",
    "\n",
    "HINT: the way to compute percent change is `(Y - X) / X`."
   ]
  },
  {
   "cell_type": "code",
   "execution_count": null,
   "id": "c9074c1d-aac6-4eb5-9449-127c2210723d",
   "metadata": {},
   "outputs": [],
   "source": []
  },
  {
   "cell_type": "markdown",
   "id": "71fc401d-1689-4678-9d2a-045efb9922a7",
   "metadata": {},
   "source": [
    "Now let's clear these new columns out using [drop](https://pandas.pydata.org/docs/reference/api/pandas.DataFrame.drop.html). "
   ]
  },
  {
   "cell_type": "code",
   "execution_count": null,
   "id": "88a06675-8903-4d89-9013-e9f2ab646cde",
   "metadata": {},
   "outputs": [],
   "source": [
    "df = df.drop(columns=['raw_pop_change', 'pct_pop_change'])"
   ]
  },
  {
   "cell_type": "markdown",
   "id": "5150d4ce-4546-4494-9364-3caaf5e1425b",
   "metadata": {},
   "source": [
    "### Concatenating and joining tables"
   ]
  },
  {
   "cell_type": "markdown",
   "id": "f9dbe24b-9d75-4cbb-b6d1-14c6db22c80c",
   "metadata": {},
   "source": [
    "Much of the time, we are working with multiple sets of data which may overlap in key ways. Perhaps we want to include measures of income in cities, or look at voting patterns - this may require us to combine multiple data frames so we can analyze them."
   ]
  },
  {
   "cell_type": "markdown",
   "id": "f574b291-dae6-40d3-9825-11ced56e5a1d",
   "metadata": {},
   "source": [
    "Pandas methods to combine data frames are quite similar to that of database operations - if you've worked with SQL before, this will come very easily to you. There's an [extensive tutorial](https://pandas.pydata.org/docs/user_guide/merging.html#concat) on this topic, but we'll just focus on the simple case of `.concat()`."
   ]
  },
  {
   "cell_type": "markdown",
   "id": "ad7b531b-30a2-4a1c-8728-c59692367478",
   "metadata": {},
   "source": [
    "TODO: example of appending rows together"
   ]
  },
  {
   "cell_type": "code",
   "execution_count": null,
   "id": "61bb34fc-71a8-4f27-a4e4-8997d6fd7891",
   "metadata": {},
   "outputs": [],
   "source": []
  },
  {
   "cell_type": "markdown",
   "id": "a129299d-7e7b-4a10-8c6c-50e0987a94e9",
   "metadata": {},
   "source": [
    "TODO: example of joining by column, perhaps with explanation of some of the arguments"
   ]
  },
  {
   "cell_type": "code",
   "execution_count": null,
   "id": "498f7305-2d5e-4a31-9d64-7b47819a23bb",
   "metadata": {},
   "outputs": [],
   "source": []
  },
  {
   "cell_type": "markdown",
   "id": "5f112a80-1a63-4ccc-9190-6d0d73f33bb4",
   "metadata": {},
   "source": [
    "TODO: exercise"
   ]
  },
  {
   "cell_type": "code",
   "execution_count": null,
   "id": "750f670e-428e-408c-b0ff-7e22fc1d409c",
   "metadata": {},
   "outputs": [],
   "source": []
  },
  {
   "cell_type": "markdown",
   "id": "4a5127c9-6ca9-4945-a70c-abd8e92cb25c",
   "metadata": {},
   "source": [
    "## Learning about data: summarizing tables"
   ]
  },
  {
   "cell_type": "markdown",
   "id": "f74eeaaa-536d-4d6f-8988-c222949ae83e",
   "metadata": {},
   "source": [
    "The data we have is only as good as we understand what's going on. There's some basic methods in pandas we can use to get an idea of what the data says."
   ]
  },
  {
   "cell_type": "markdown",
   "id": "208f6cdd-8c42-4217-beb7-f9c45f96bcbb",
   "metadata": {},
   "source": [
    "### `.describe()` and aggregation"
   ]
  },
  {
   "cell_type": "markdown",
   "id": "3803d353-b8fc-43de-9980-aa8de8ff510e",
   "metadata": {},
   "source": [
    "The most basic function you can use to get an idea of what's going on is `.describe()`. It shows you how much data there is, and a number of summary statistics. \n",
    "\n",
    "**Modify the code below to report summary statistics for cities in Quebec only**."
   ]
  },
  {
   "cell_type": "code",
   "execution_count": 11,
   "id": "a93bcfd5-c554-4297-9e03-45dee67e0c6b",
   "metadata": {},
   "outputs": [
    {
     "data": {
      "text/html": [
       "<div>\n",
       "<style scoped>\n",
       "    .dataframe tbody tr th:only-of-type {\n",
       "        vertical-align: middle;\n",
       "    }\n",
       "\n",
       "    .dataframe tbody tr th {\n",
       "        vertical-align: top;\n",
       "    }\n",
       "\n",
       "    .dataframe thead th {\n",
       "        text-align: right;\n",
       "    }\n",
       "</style>\n",
       "<table border=\"1\" class=\"dataframe\">\n",
       "  <thead>\n",
       "    <tr style=\"text-align: right;\">\n",
       "      <th></th>\n",
       "      <th>Population, 2021</th>\n",
       "      <th>Population, 2016</th>\n",
       "    </tr>\n",
       "  </thead>\n",
       "  <tbody>\n",
       "    <tr>\n",
       "      <th>count</th>\n",
       "      <td>1.760000e+02</td>\n",
       "      <td>1.750000e+02</td>\n",
       "    </tr>\n",
       "    <tr>\n",
       "      <th>mean</th>\n",
       "      <td>1.517228e+05</td>\n",
       "      <td>1.441686e+05</td>\n",
       "    </tr>\n",
       "    <tr>\n",
       "      <th>std</th>\n",
       "      <td>3.004616e+05</td>\n",
       "      <td>2.899143e+05</td>\n",
       "    </tr>\n",
       "    <tr>\n",
       "      <th>min</th>\n",
       "      <td>2.554500e+04</td>\n",
       "      <td>2.378700e+04</td>\n",
       "    </tr>\n",
       "    <tr>\n",
       "      <th>25%</th>\n",
       "      <td>3.654350e+04</td>\n",
       "      <td>3.417500e+04</td>\n",
       "    </tr>\n",
       "    <tr>\n",
       "      <th>50%</th>\n",
       "      <td>6.303350e+04</td>\n",
       "      <td>6.158100e+04</td>\n",
       "    </tr>\n",
       "    <tr>\n",
       "      <th>75%</th>\n",
       "      <td>1.325145e+05</td>\n",
       "      <td>1.184810e+05</td>\n",
       "    </tr>\n",
       "    <tr>\n",
       "      <th>max</th>\n",
       "      <td>2.794356e+06</td>\n",
       "      <td>2.731571e+06</td>\n",
       "    </tr>\n",
       "  </tbody>\n",
       "</table>\n",
       "</div>"
      ],
      "text/plain": [
       "       Population, 2021  Population, 2016\n",
       "count      1.760000e+02      1.750000e+02\n",
       "mean       1.517228e+05      1.441686e+05\n",
       "std        3.004616e+05      2.899143e+05\n",
       "min        2.554500e+04      2.378700e+04\n",
       "25%        3.654350e+04      3.417500e+04\n",
       "50%        6.303350e+04      6.158100e+04\n",
       "75%        1.325145e+05      1.184810e+05\n",
       "max        2.794356e+06      2.731571e+06"
      ]
     },
     "execution_count": 11,
     "metadata": {},
     "output_type": "execute_result"
    }
   ],
   "source": [
    "df.describe()"
   ]
  },
  {
   "cell_type": "markdown",
   "id": "68d6fc5b-e7c8-4b0d-afc3-2f3f9f567662",
   "metadata": {},
   "source": [
    "Instead of picking out an examining a subset of the data one by one, we can use the function `.groupby()`. Given a column name, it will group rows which have the same value. In the example below, that means grouping every row which has the same province name. We can then apply a function to this (or multiple functions using `.agg()`) to examine different aspects of the data."
   ]
  },
  {
   "cell_type": "code",
   "execution_count": 18,
   "id": "14c52919-3d19-4143-b50e-d95966ddae41",
   "metadata": {},
   "outputs": [
    {
     "name": "stdout",
     "output_type": "stream",
     "text": [
      "Total population by province:\n"
     ]
    },
    {
     "data": {
      "text/plain": [
       "Prov/terr\n",
       "Ont.      11728618.0\n",
       "Que.       5563882.0\n",
       "B.C.       3662922.0\n",
       "Alta.      3192892.0\n",
       "Man.        800920.0\n",
       "Sask.       563966.0\n",
       "N.S.        559058.0\n",
       "N.B.        240595.0\n",
       "N.L.        137693.0\n",
       "P.E.I.       38809.0\n",
       "Y.T.         28201.0\n",
       "Name: Population, 2021, dtype: float64"
      ]
     },
     "execution_count": 18,
     "metadata": {},
     "output_type": "execute_result"
    }
   ],
   "source": [
    "# Group by province and calculate total population\n",
    "province_pop = df.groupby('Prov/terr')['Population, 2021'].sum()\n",
    "print(\"Total population by province:\")\n",
    "province_pop.sort_values(ascending=False)"
   ]
  },
  {
   "cell_type": "code",
   "execution_count": 19,
   "id": "859ef590-48e6-413f-9009-d9ae201fa67a",
   "metadata": {},
   "outputs": [
    {
     "data": {
      "text/html": [
       "<div>\n",
       "<style scoped>\n",
       "    .dataframe tbody tr th:only-of-type {\n",
       "        vertical-align: middle;\n",
       "    }\n",
       "\n",
       "    .dataframe tbody tr th {\n",
       "        vertical-align: top;\n",
       "    }\n",
       "\n",
       "    .dataframe thead th {\n",
       "        text-align: right;\n",
       "    }\n",
       "</style>\n",
       "<table border=\"1\" class=\"dataframe\">\n",
       "  <thead>\n",
       "    <tr style=\"text-align: right;\">\n",
       "      <th></th>\n",
       "      <th>count</th>\n",
       "      <th>mean</th>\n",
       "      <th>max</th>\n",
       "      <th>sum</th>\n",
       "    </tr>\n",
       "    <tr>\n",
       "      <th>Prov/terr</th>\n",
       "      <th></th>\n",
       "      <th></th>\n",
       "      <th></th>\n",
       "      <th></th>\n",
       "    </tr>\n",
       "  </thead>\n",
       "  <tbody>\n",
       "    <tr>\n",
       "      <th>Alta.</th>\n",
       "      <td>17</td>\n",
       "      <td>187817.176471</td>\n",
       "      <td>1306784.0</td>\n",
       "      <td>3192892.0</td>\n",
       "    </tr>\n",
       "    <tr>\n",
       "      <th>B.C.</th>\n",
       "      <td>29</td>\n",
       "      <td>126307.655172</td>\n",
       "      <td>662248.0</td>\n",
       "      <td>3662922.0</td>\n",
       "    </tr>\n",
       "    <tr>\n",
       "      <th>Man.</th>\n",
       "      <td>2</td>\n",
       "      <td>400460.000000</td>\n",
       "      <td>749607.0</td>\n",
       "      <td>800920.0</td>\n",
       "    </tr>\n",
       "    <tr>\n",
       "      <th>N.B.</th>\n",
       "      <td>4</td>\n",
       "      <td>60148.750000</td>\n",
       "      <td>79470.0</td>\n",
       "      <td>240595.0</td>\n",
       "    </tr>\n",
       "    <tr>\n",
       "      <th>N.L.</th>\n",
       "      <td>2</td>\n",
       "      <td>68846.500000</td>\n",
       "      <td>110525.0</td>\n",
       "      <td>137693.0</td>\n",
       "    </tr>\n",
       "    <tr>\n",
       "      <th>N.S.</th>\n",
       "      <td>3</td>\n",
       "      <td>186352.666667</td>\n",
       "      <td>439819.0</td>\n",
       "      <td>559058.0</td>\n",
       "    </tr>\n",
       "    <tr>\n",
       "      <th>Ont.</th>\n",
       "      <td>66</td>\n",
       "      <td>177706.333333</td>\n",
       "      <td>2794356.0</td>\n",
       "      <td>11728618.0</td>\n",
       "    </tr>\n",
       "    <tr>\n",
       "      <th>P.E.I.</th>\n",
       "      <td>1</td>\n",
       "      <td>38809.000000</td>\n",
       "      <td>38809.0</td>\n",
       "      <td>38809.0</td>\n",
       "    </tr>\n",
       "    <tr>\n",
       "      <th>Que.</th>\n",
       "      <td>43</td>\n",
       "      <td>129392.604651</td>\n",
       "      <td>1762949.0</td>\n",
       "      <td>5563882.0</td>\n",
       "    </tr>\n",
       "    <tr>\n",
       "      <th>Sask.</th>\n",
       "      <td>4</td>\n",
       "      <td>140991.500000</td>\n",
       "      <td>266141.0</td>\n",
       "      <td>563966.0</td>\n",
       "    </tr>\n",
       "    <tr>\n",
       "      <th>Y.T.</th>\n",
       "      <td>1</td>\n",
       "      <td>28201.000000</td>\n",
       "      <td>28201.0</td>\n",
       "      <td>28201.0</td>\n",
       "    </tr>\n",
       "  </tbody>\n",
       "</table>\n",
       "</div>"
      ],
      "text/plain": [
       "           count           mean        max         sum\n",
       "Prov/terr                                             \n",
       "Alta.         17  187817.176471  1306784.0   3192892.0\n",
       "B.C.          29  126307.655172   662248.0   3662922.0\n",
       "Man.           2  400460.000000   749607.0    800920.0\n",
       "N.B.           4   60148.750000    79470.0    240595.0\n",
       "N.L.           2   68846.500000   110525.0    137693.0\n",
       "N.S.           3  186352.666667   439819.0    559058.0\n",
       "Ont.          66  177706.333333  2794356.0  11728618.0\n",
       "P.E.I.         1   38809.000000    38809.0     38809.0\n",
       "Que.          43  129392.604651  1762949.0   5563882.0\n",
       "Sask.          4  140991.500000   266141.0    563966.0\n",
       "Y.T.           1   28201.000000    28201.0     28201.0"
      ]
     },
     "execution_count": 19,
     "metadata": {},
     "output_type": "execute_result"
    }
   ],
   "source": [
    "# Multiple aggregations\n",
    "stats = df.groupby('Prov/terr')['Population, 2021'].agg(['count', 'mean', 'max', 'sum'])\n",
    "stats"
   ]
  },
  {
   "cell_type": "markdown",
   "id": "8235c7f5-85a4-4563-9be0-8f1a8fe3da99",
   "metadata": {},
   "source": [
    "Below, we've added a column which shows the percent growth for each city. **Use `.groupby('Prov/terr')`  and use the function `.median()` (just as we used `.sum()` above) to observe the median growth rate per province or territory**. Make sure to use `sort_values()` and set ascending to `False`."
   ]
  },
  {
   "cell_type": "code",
   "execution_count": 31,
   "id": "fafec74a-ffa8-4c19-8e85-a378f7195cf8",
   "metadata": {},
   "outputs": [],
   "source": [
    "df['%Growth'] = (df['Population, 2021'] - df['Population, 2016']) / df['Population, 2016'] \n",
    "# CODE HERE\n"
   ]
  },
  {
   "cell_type": "markdown",
   "id": "a238e17f-59b3-444c-94ed-ede0336feaf8",
   "metadata": {},
   "source": [
    "### Cross tabulation"
   ]
  },
  {
   "cell_type": "markdown",
   "id": "f7da20e7-f78a-4e4b-a084-03f8c6bfc783",
   "metadata": {},
   "source": [
    "To analyze how city sizes vary across provinces (i.e., to cross tabulate them), we need two tools:\n",
    " - `pd.cut` bins continuous numbers (like population) into categories (e.g., \"Small\"/\"Medium\"/\"Large\"), turning numbers into meaningful groups.\n",
    " - `pd.crosstab` counts how often these groups appear together—like how many \"Medium\" cities exist per province—revealing patterns that raw numbers hide."
   ]
  },
  {
   "cell_type": "code",
   "execution_count": 29,
   "id": "28f378e8-5684-4f4b-9a65-6b2ca7e38e4c",
   "metadata": {},
   "outputs": [
    {
     "data": {
      "text/html": [
       "<div>\n",
       "<style scoped>\n",
       "    .dataframe tbody tr th:only-of-type {\n",
       "        vertical-align: middle;\n",
       "    }\n",
       "\n",
       "    .dataframe tbody tr th {\n",
       "        vertical-align: top;\n",
       "    }\n",
       "\n",
       "    .dataframe thead th {\n",
       "        text-align: right;\n",
       "    }\n",
       "</style>\n",
       "<table border=\"1\" class=\"dataframe\">\n",
       "  <thead>\n",
       "    <tr style=\"text-align: right;\">\n",
       "      <th>Size</th>\n",
       "      <th>Small</th>\n",
       "      <th>Medium</th>\n",
       "      <th>Large</th>\n",
       "      <th>All</th>\n",
       "    </tr>\n",
       "    <tr>\n",
       "      <th>Prov/terr</th>\n",
       "      <th></th>\n",
       "      <th></th>\n",
       "      <th></th>\n",
       "      <th></th>\n",
       "    </tr>\n",
       "  </thead>\n",
       "  <tbody>\n",
       "    <tr>\n",
       "      <th>Alta.</th>\n",
       "      <td>7</td>\n",
       "      <td>8</td>\n",
       "      <td>2</td>\n",
       "      <td>17</td>\n",
       "    </tr>\n",
       "    <tr>\n",
       "      <th>B.C.</th>\n",
       "      <td>9</td>\n",
       "      <td>16</td>\n",
       "      <td>4</td>\n",
       "      <td>29</td>\n",
       "    </tr>\n",
       "    <tr>\n",
       "      <th>Man.</th>\n",
       "      <td>0</td>\n",
       "      <td>1</td>\n",
       "      <td>1</td>\n",
       "      <td>2</td>\n",
       "    </tr>\n",
       "    <tr>\n",
       "      <th>N.B.</th>\n",
       "      <td>1</td>\n",
       "      <td>3</td>\n",
       "      <td>0</td>\n",
       "      <td>4</td>\n",
       "    </tr>\n",
       "    <tr>\n",
       "      <th>N.L.</th>\n",
       "      <td>1</td>\n",
       "      <td>1</td>\n",
       "      <td>0</td>\n",
       "      <td>2</td>\n",
       "    </tr>\n",
       "    <tr>\n",
       "      <th>N.S.</th>\n",
       "      <td>1</td>\n",
       "      <td>1</td>\n",
       "      <td>1</td>\n",
       "      <td>3</td>\n",
       "    </tr>\n",
       "    <tr>\n",
       "      <th>Ont.</th>\n",
       "      <td>26</td>\n",
       "      <td>28</td>\n",
       "      <td>12</td>\n",
       "      <td>66</td>\n",
       "    </tr>\n",
       "    <tr>\n",
       "      <th>P.E.I.</th>\n",
       "      <td>1</td>\n",
       "      <td>0</td>\n",
       "      <td>0</td>\n",
       "      <td>1</td>\n",
       "    </tr>\n",
       "    <tr>\n",
       "      <th>Que.</th>\n",
       "      <td>23</td>\n",
       "      <td>15</td>\n",
       "      <td>5</td>\n",
       "      <td>43</td>\n",
       "    </tr>\n",
       "    <tr>\n",
       "      <th>Sask.</th>\n",
       "      <td>2</td>\n",
       "      <td>0</td>\n",
       "      <td>2</td>\n",
       "      <td>4</td>\n",
       "    </tr>\n",
       "    <tr>\n",
       "      <th>Y.T.</th>\n",
       "      <td>1</td>\n",
       "      <td>0</td>\n",
       "      <td>0</td>\n",
       "      <td>1</td>\n",
       "    </tr>\n",
       "    <tr>\n",
       "      <th>All</th>\n",
       "      <td>72</td>\n",
       "      <td>73</td>\n",
       "      <td>27</td>\n",
       "      <td>172</td>\n",
       "    </tr>\n",
       "  </tbody>\n",
       "</table>\n",
       "</div>"
      ],
      "text/plain": [
       "Size       Small  Medium  Large  All\n",
       "Prov/terr                           \n",
       "Alta.          7       8      2   17\n",
       "B.C.           9      16      4   29\n",
       "Man.           0       1      1    2\n",
       "N.B.           1       3      0    4\n",
       "N.L.           1       1      0    2\n",
       "N.S.           1       1      1    3\n",
       "Ont.          26      28     12   66\n",
       "P.E.I.         1       0      0    1\n",
       "Que.          23      15      5   43\n",
       "Sask.          2       0      2    4\n",
       "Y.T.           1       0      0    1\n",
       "All           72      73     27  172"
      ]
     },
     "execution_count": 29,
     "metadata": {},
     "output_type": "execute_result"
    }
   ],
   "source": [
    "# Create a size category column\n",
    "df['Size'] = pd.cut(df['Population, 2021'],\n",
    "                    bins=[0, 50000, 200000, float('inf')],\n",
    "                    labels=['Small', 'Medium', 'Large'])\n",
    "\n",
    "# Cross-tab: Province vs. Size\n",
    "size_table = pd.crosstab(df['Prov/terr'], df['Size'], margins=True)\n",
    "size_table"
   ]
  },
  {
   "cell_type": "markdown",
   "id": "508f84a1-1726-4a63-b558-997a060f594d",
   "metadata": {},
   "source": [
    "Recall that we just created the column `'%Growth'` as well. **Use these two functions to create different bins for different levels of growth and cross tabulate them**."
   ]
  },
  {
   "cell_type": "code",
   "execution_count": null,
   "id": "d16d2709-9f86-4c1f-9e47-095788b59a67",
   "metadata": {},
   "outputs": [],
   "source": []
  },
  {
   "cell_type": "markdown",
   "id": "77460338-290d-42cb-9ed4-f181a4a0b593",
   "metadata": {},
   "source": [
    "### Simple visualization"
   ]
  },
  {
   "cell_type": "code",
   "execution_count": 36,
   "id": "718eda5c-7660-4688-be7d-1929369bbb4b",
   "metadata": {},
   "outputs": [
    {
     "data": {
      "text/plain": [
       "<Axes: title={'center': 'Population Growth: 2016 vs. 2021'}, xlabel='Population, 2016', ylabel='Population, 2021'>"
      ]
     },
     "execution_count": 36,
     "metadata": {},
     "output_type": "execute_result"
    },
    {
     "data": {
      "image/png": "[encoded data removed]",
      "text/plain": [
       "<Figure size 640x480 with 1 Axes>"
      ]
     },
     "metadata": {},
     "output_type": "display_data"
    },
    {
     "data": {
      "image/png": "[encoded data removed]",
      "text/plain": [
       "<Figure size 640x480 with 1 Axes>"
      ]
     },
     "metadata": {},
     "output_type": "display_data"
    }
   ],
   "source": [
    "# Bar plot: Total population by province\n",
    "df.groupby('Prov/terr')['Population, 2021'].sum().plot(\n",
    "    kind='barh',\n",
    "    title='Total Population by Province (2021)'\n",
    ")\n",
    "\n",
    "# Scatter plot: 2016 vs. 2021 populations\n",
    "df.plot.scatter(x='Population, 2016',\n",
    "                y='Population, 2021',\n",
    "                alpha=0.5,\n",
    "                title='Population Growth: 2016 vs. 2021')\n"
   ]
  },
  {
   "cell_type": "markdown",
   "id": "cb1251ea-7301-4c18-9245-5b603a8a8c80",
   "metadata": {},
   "source": [
    "## Data wrangling: finding, loading, and saving data"
   ]
  },
  {
   "cell_type": "markdown",
   "id": "e1c18dc8-b07e-47f6-b583-455f8a72ae98",
   "metadata": {},
   "source": [
    "TODO: Motivation"
   ]
  },
  {
   "cell_type": "code",
   "execution_count": null,
   "id": "2144cd22-d0fd-49a4-852f-a6bbbd8d9704",
   "metadata": {},
   "outputs": [],
   "source": [
    "# TODO: Example"
   ]
  },
  {
   "cell_type": "code",
   "execution_count": null,
   "id": "20a4abb0-8834-4076-b3fe-38358ed40373",
   "metadata": {},
   "outputs": [],
   "source": []
  }
 ],
 "metadata": {
  "kernelspec": {
   "display_name": "Python 3 (ipykernel)",
   "language": "python",
   "name": "python3"
  },
  "language_info": {
   "codemirror_mode": {
    "name": "ipython",
    "version": 3
   },
   "file_extension": ".py",
   "mimetype": "text/x-python",
   "name": "python",
   "nbconvert_exporter": "python",
   "pygments_lexer": "ipython3",
   "version": "3.12.5"
  }
 },
 "nbformat": 4,
 "nbformat_minor": 5
}
