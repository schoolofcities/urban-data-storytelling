{
 "cells": [
  {
   "cell_type": "markdown",
   "id": "ae6c19ac-423f-4e03-9453-b74de83ebccb",
   "metadata": {},
   "source": [
    "# Introductory data processing and analytics\n",
    "### in Python, using pandas"
   ]
  },
  {
   "cell_type": "markdown",
   "id": "55dd9f12-1cd0-48ca-b439-686e151137f5",
   "metadata": {},
   "source": [
    "pandas is a Python library for analyzing and organizing tabular data. It's probably the most common library for working with both big and small datasets in Python, and is the basis for working with more analytical packages (e.g. scikit-learn) and analyzing geographic data (e.g. geopandas)\n",
    "\n",
    "This notebook provides an intro to pandas for analyzing urban data. We'll be learning the following\n",
    " - TODO"
   ]
  },
  {
   "cell_type": "code",
   "execution_count": 1,
   "id": "1123b26f-d663-411d-a5e6-aa6e6433a265",
   "metadata": {},
   "outputs": [],
   "source": [
    "import pandas as pd"
   ]
  },
  {
   "cell_type": "markdown",
   "id": "b8c8de5d-68cf-440f-842c-7126d22dcf47",
   "metadata": {},
   "source": [
    "## DataFrames: the basic unit of pandas"
   ]
  },
  {
   "cell_type": "markdown",
   "id": "0879c7e2-7e2a-4874-a051-485635b8a5b5",
   "metadata": {},
   "source": [
    "In pandas, a `DataFrame` is a tabular data structure similar to a spreadsheet, where data is organized in rows and columns. These can contain different kinds of data, such as numbers, strings, dates, and so on. When we load data in pandas, we typically load it into the structure of a `DataFrame`."
   ]
  },
  {
   "cell_type": "markdown",
   "id": "3f63d820-e430-4de2-979f-e0965844f5cf",
   "metadata": {},
   "source": [
    "Let's first take a look at a small dataset, Canadian municipalities and their population in 2021 and 2016, based on Census data. In Statistics Canada lingo, these are called [Census Subdivisions](https://www12.statcan.gc.ca/census-recensement/2021/ref/dict/az/Definition-eng.cfm?ID=geo012). This dataset only includes municipalities with a population greater than 25,000 in 2021."
   ]
  },
  {
   "cell_type": "markdown",
   "id": "9c702dc1-431f-45e8-9275-e0c761956aea",
   "metadata": {},
   "source": [
    "The main method for loading csv data is to use the [read_csv](https://pandas.pydata.org/pandas-docs/stable/reference/api/pandas.read_csv.html) function, but pandas can also read [many other](https://pandas.pydata.org/pandas-docs/stable/reference/io.html) data formats."
   ]
  },
  {
   "cell_type": "code",
   "execution_count": 2,
   "id": "9113af00-ba82-4adc-83d5-812caf09d720",
   "metadata": {},
   "outputs": [],
   "source": [
    "df = pd.read_csv(\"cities.csv\")"
   ]
  },
  {
   "cell_type": "markdown",
   "id": "b4d44668-ce3e-46c0-a360-67370e3b2d61",
   "metadata": {},
   "source": [
    "Great! Now our data is stored in the variable `df` in the structure of a `DataFrame`."
   ]
  },
  {
   "cell_type": "markdown",
   "id": "3d78884e-83d4-420d-b493-96698da5e54c",
   "metadata": {},
   "source": [
    "### Exploring"
   ]
  },
  {
   "cell_type": "markdown",
   "id": "5b57fe6c-44d5-470e-8148-316542c82d80",
   "metadata": {},
   "source": [
    "Let's explore what this data frame looks like. Adding the function `.head(N)` or `.tail(N)` prints the top or bottom `N` rows of the DataFrame. The following prints the first 10 rows - **see if you can print the bottom 10 rows or a different number of rows**."
   ]
  },
  {
   "cell_type": "code",
   "execution_count": 3,
   "id": "b9a1124a-1e2b-4bf1-a621-194704815820",
   "metadata": {},
   "outputs": [
    {
     "data": {
      "text/html": [
       "<div>\n",
       "<style scoped>\n",
       "    .dataframe tbody tr th:only-of-type {\n",
       "        vertical-align: middle;\n",
       "    }\n",
       "\n",
       "    .dataframe tbody tr th {\n",
       "        vertical-align: top;\n",
       "    }\n",
       "\n",
       "    .dataframe thead th {\n",
       "        text-align: right;\n",
       "    }\n",
       "</style>\n",
       "<table border=\"1\" class=\"dataframe\">\n",
       "  <thead>\n",
       "    <tr style=\"text-align: right;\">\n",
       "      <th></th>\n",
       "      <th>Name</th>\n",
       "      <th>Prov/terr</th>\n",
       "      <th>Population, 2021</th>\n",
       "      <th>Population, 2016</th>\n",
       "    </tr>\n",
       "  </thead>\n",
       "  <tbody>\n",
       "    <tr>\n",
       "      <th>0</th>\n",
       "      <td>Abbotsford</td>\n",
       "      <td>B.C.</td>\n",
       "      <td>153524</td>\n",
       "      <td>141397</td>\n",
       "    </tr>\n",
       "    <tr>\n",
       "      <th>1</th>\n",
       "      <td>Airdrie</td>\n",
       "      <td>Alta.</td>\n",
       "      <td>74100</td>\n",
       "      <td>61581</td>\n",
       "    </tr>\n",
       "    <tr>\n",
       "      <th>2</th>\n",
       "      <td>Ajax</td>\n",
       "      <td>Ont.</td>\n",
       "      <td>126666</td>\n",
       "      <td>119677</td>\n",
       "    </tr>\n",
       "    <tr>\n",
       "      <th>3</th>\n",
       "      <td>Alma</td>\n",
       "      <td>Que.</td>\n",
       "      <td>30331</td>\n",
       "      <td>30771</td>\n",
       "    </tr>\n",
       "    <tr>\n",
       "      <th>4</th>\n",
       "      <td>Aurora</td>\n",
       "      <td>Ont.</td>\n",
       "      <td>62057</td>\n",
       "      <td>55445</td>\n",
       "    </tr>\n",
       "    <tr>\n",
       "      <th>5</th>\n",
       "      <td>Barrie</td>\n",
       "      <td>Ont.</td>\n",
       "      <td>147829</td>\n",
       "      <td>141434</td>\n",
       "    </tr>\n",
       "    <tr>\n",
       "      <th>6</th>\n",
       "      <td>Belleville</td>\n",
       "      <td>Ont.</td>\n",
       "      <td>55071</td>\n",
       "      <td>50716</td>\n",
       "    </tr>\n",
       "    <tr>\n",
       "      <th>7</th>\n",
       "      <td>Blainville</td>\n",
       "      <td>Que.</td>\n",
       "      <td>59819</td>\n",
       "      <td>56863</td>\n",
       "    </tr>\n",
       "    <tr>\n",
       "      <th>8</th>\n",
       "      <td>Boisbriand</td>\n",
       "      <td>Que.</td>\n",
       "      <td>28308</td>\n",
       "      <td>26884</td>\n",
       "    </tr>\n",
       "    <tr>\n",
       "      <th>9</th>\n",
       "      <td>Boucherville</td>\n",
       "      <td>Que.</td>\n",
       "      <td>41743</td>\n",
       "      <td>41671</td>\n",
       "    </tr>\n",
       "  </tbody>\n",
       "</table>\n",
       "</div>"
      ],
      "text/plain": [
       "           Name Prov/terr  Population, 2021  Population, 2016\n",
       "0    Abbotsford      B.C.            153524            141397\n",
       "1       Airdrie     Alta.             74100             61581\n",
       "2          Ajax      Ont.            126666            119677\n",
       "3          Alma      Que.             30331             30771\n",
       "4        Aurora      Ont.             62057             55445\n",
       "5        Barrie      Ont.            147829            141434\n",
       "6    Belleville      Ont.             55071             50716\n",
       "7    Blainville      Que.             59819             56863\n",
       "8    Boisbriand      Que.             28308             26884\n",
       "9  Boucherville      Que.             41743             41671"
      ]
     },
     "execution_count": 3,
     "metadata": {},
     "output_type": "execute_result"
    }
   ],
   "source": [
    "df.head(10)"
   ]
  },
  {
   "cell_type": "markdown",
   "id": "a7146c67-bb6c-4c83-86cf-64114cd14ef6",
   "metadata": {},
   "source": [
    "Notice that each column has a unique name. We can view the data of this column alone by using that name, and see what unique values exist using `.unique()`. **Try viewing the data of another column** -- beware of using incorrect case."
   ]
  },
  {
   "cell_type": "code",
   "execution_count": 20,
   "id": "ce82ad67-e44e-4a8d-ae25-5d5bd73a11cc",
   "metadata": {},
   "outputs": [
    {
     "data": {
      "text/plain": [
       "0     B.C.\n",
       "1    Alta.\n",
       "2     Ont.\n",
       "3     Que.\n",
       "4     Ont.\n",
       "5     Ont.\n",
       "6     Ont.\n",
       "7     Que.\n",
       "8     Que.\n",
       "9     Que.\n",
       "Name: Prov/terr, dtype: object"
      ]
     },
     "execution_count": 20,
     "metadata": {},
     "output_type": "execute_result"
    }
   ],
   "source": [
    "df['Prov/terr'].head(10)  # Top 10 only"
   ]
  },
  {
   "cell_type": "code",
   "execution_count": 21,
   "id": "3c75d9c6-ad34-463d-94dc-824d82ad52cb",
   "metadata": {},
   "outputs": [
    {
     "data": {
      "text/plain": [
       "array(['B.C.', 'Alta.', 'Ont.', 'Que.', 'Man.', 'N.S.', 'P.E.I.', 'N.L.',\n",
       "       'N.B.', 'Sask.', 'Y.T.'], dtype=object)"
      ]
     },
     "execution_count": 21,
     "metadata": {},
     "output_type": "execute_result"
    }
   ],
   "source": [
    "df['Prov/terr'].unique()  # Unique values for the *full* dataset - what happens if you do df['Prov/terr'].head(10).unique()?"
   ]
  },
  {
   "cell_type": "markdown",
   "id": "780687b7-6a07-4c82-ab4d-499ea7644955",
   "metadata": {},
   "source": [
    "### Filtering, sorting, organizing data"
   ]
  },
  {
   "cell_type": "markdown",
   "id": "4150f657-e5df-45fb-aeb2-4df917e92c87",
   "metadata": {},
   "source": [
    "We can use the columns to identify data that we might want to filter by. The line below shows data only for Ontario, **but see if you can filter for another province or territory**."
   ]
  },
  {
   "cell_type": "code",
   "execution_count": 15,
   "id": "3d291a78-7d41-4e76-bddc-4f3c72484642",
   "metadata": {},
   "outputs": [
    {
     "data": {
      "text/html": [
       "<div>\n",
       "<style scoped>\n",
       "    .dataframe tbody tr th:only-of-type {\n",
       "        vertical-align: middle;\n",
       "    }\n",
       "\n",
       "    .dataframe tbody tr th {\n",
       "        vertical-align: top;\n",
       "    }\n",
       "\n",
       "    .dataframe thead th {\n",
       "        text-align: right;\n",
       "    }\n",
       "</style>\n",
       "<table border=\"1\" class=\"dataframe\">\n",
       "  <thead>\n",
       "    <tr style=\"text-align: right;\">\n",
       "      <th></th>\n",
       "      <th>Name</th>\n",
       "      <th>Prov/terr</th>\n",
       "      <th>Population, 2021</th>\n",
       "      <th>Population, 2016</th>\n",
       "    </tr>\n",
       "  </thead>\n",
       "  <tbody>\n",
       "    <tr>\n",
       "      <th>2</th>\n",
       "      <td>Ajax</td>\n",
       "      <td>Ont.</td>\n",
       "      <td>126666</td>\n",
       "      <td>119677</td>\n",
       "    </tr>\n",
       "    <tr>\n",
       "      <th>4</th>\n",
       "      <td>Aurora</td>\n",
       "      <td>Ont.</td>\n",
       "      <td>62057</td>\n",
       "      <td>55445</td>\n",
       "    </tr>\n",
       "    <tr>\n",
       "      <th>5</th>\n",
       "      <td>Barrie</td>\n",
       "      <td>Ont.</td>\n",
       "      <td>147829</td>\n",
       "      <td>141434</td>\n",
       "    </tr>\n",
       "    <tr>\n",
       "      <th>6</th>\n",
       "      <td>Belleville</td>\n",
       "      <td>Ont.</td>\n",
       "      <td>55071</td>\n",
       "      <td>50716</td>\n",
       "    </tr>\n",
       "    <tr>\n",
       "      <th>10</th>\n",
       "      <td>Bradford West Gwillimbury</td>\n",
       "      <td>Ont.</td>\n",
       "      <td>42880</td>\n",
       "      <td>35325</td>\n",
       "    </tr>\n",
       "    <tr>\n",
       "      <th>...</th>\n",
       "      <td>...</td>\n",
       "      <td>...</td>\n",
       "      <td>...</td>\n",
       "      <td>...</td>\n",
       "    </tr>\n",
       "    <tr>\n",
       "      <th>171</th>\n",
       "      <td>Whitby</td>\n",
       "      <td>Ont.</td>\n",
       "      <td>138501</td>\n",
       "      <td>128377</td>\n",
       "    </tr>\n",
       "    <tr>\n",
       "      <th>172</th>\n",
       "      <td>Whitchurch-Stouffville</td>\n",
       "      <td>Ont.</td>\n",
       "      <td>49864</td>\n",
       "      <td>45837</td>\n",
       "    </tr>\n",
       "    <tr>\n",
       "      <th>174</th>\n",
       "      <td>Windsor</td>\n",
       "      <td>Ont.</td>\n",
       "      <td>229660</td>\n",
       "      <td>217188</td>\n",
       "    </tr>\n",
       "    <tr>\n",
       "      <th>177</th>\n",
       "      <td>Woodstock</td>\n",
       "      <td>Ont.</td>\n",
       "      <td>46705</td>\n",
       "      <td>41098</td>\n",
       "    </tr>\n",
       "    <tr>\n",
       "      <th>178</th>\n",
       "      <td>Woolwich</td>\n",
       "      <td>Ont.</td>\n",
       "      <td>26999</td>\n",
       "      <td>25006</td>\n",
       "    </tr>\n",
       "  </tbody>\n",
       "</table>\n",
       "<p>69 rows × 4 columns</p>\n",
       "</div>"
      ],
      "text/plain": [
       "                          Name Prov/terr  Population, 2021  Population, 2016\n",
       "2                         Ajax      Ont.            126666            119677\n",
       "4                       Aurora      Ont.             62057             55445\n",
       "5                       Barrie      Ont.            147829            141434\n",
       "6                   Belleville      Ont.             55071             50716\n",
       "10   Bradford West Gwillimbury      Ont.             42880             35325\n",
       "..                         ...       ...               ...               ...\n",
       "171                     Whitby      Ont.            138501            128377\n",
       "172     Whitchurch-Stouffville      Ont.             49864             45837\n",
       "174                    Windsor      Ont.            229660            217188\n",
       "177                  Woodstock      Ont.             46705             41098\n",
       "178                   Woolwich      Ont.             26999             25006\n",
       "\n",
       "[69 rows x 4 columns]"
      ]
     },
     "execution_count": 15,
     "metadata": {},
     "output_type": "execute_result"
    }
   ],
   "source": [
    "df.loc[df['Prov/terr'] == 'Ont.']"
   ]
  },
  {
   "cell_type": "markdown",
   "id": "73a6b762-3681-4fa4-84e6-af97f69a351e",
   "metadata": {},
   "source": [
    "Pandas allows us to use other similar mathematical concepts filter for data. Previously, we asked for all data in Ontario. **Now, filter for all cities which had a population of at least 100,000 in 2021**.\n",
    "\n",
    "HINT: in Python, \"greater than or equals to\" (i.e., \"at least\") is represented using the syntax `>=`."
   ]
  },
  {
   "cell_type": "code",
   "execution_count": null,
   "id": "ed2dabf8-a5fe-42c5-bd8b-a8c053564eb3",
   "metadata": {},
   "outputs": [],
   "source": []
  },
  {
   "cell_type": "markdown",
   "id": "62836a7c-939d-434d-85b0-97185599fdf5",
   "metadata": {},
   "source": [
    "Once you've done that, you can count how many cities fit that condition by using the function `.count()`. Store the data you just filtered for into the variable `df_100k` and run the line below."
   ]
  },
  {
   "cell_type": "code",
   "execution_count": null,
   "id": "5095eb86-109a-4dfb-8945-7fce0c4fd73b",
   "metadata": {},
   "outputs": [],
   "source": [
    "# Store your data using df_100k = CODE HERE"
   ]
  },
  {
   "cell_type": "code",
   "execution_count": null,
   "id": "5c2d00c7-70ee-4e10-81d3-2ffee2c1ac06",
   "metadata": {},
   "outputs": [],
   "source": [
    "df_100k.count()"
   ]
  },
  {
   "cell_type": "markdown",
   "id": "7277ea63-e195-4e8c-988a-651c647fa5f2",
   "metadata": {},
   "source": [
    "## Frame physics: modifying DataFrames"
   ]
  },
  {
   "cell_type": "markdown",
   "id": "a209adfa-e756-43e7-81c6-62ea737f7e75",
   "metadata": {},
   "source": [
    "### Cleaning, renaming, and NaNs"
   ]
  },
  {
   "cell_type": "markdown",
   "id": "e518fa8c-e311-40c9-8a32-591b861bf70e",
   "metadata": {},
   "source": []
  },
  {
   "cell_type": "code",
   "execution_count": null,
   "id": "ba685f6b-88da-4244-a085-d4bed85f9ede",
   "metadata": {},
   "outputs": [],
   "source": []
  },
  {
   "cell_type": "markdown",
   "id": "b05c60a6-4ead-428f-af0e-c292cafb5fd3",
   "metadata": {},
   "source": [
    "### Creating new columns "
   ]
  },
  {
   "cell_type": "markdown",
   "id": "63928bd6-400c-46ca-962d-4c9a3f71206c",
   "metadata": {},
   "source": []
  },
  {
   "cell_type": "code",
   "execution_count": null,
   "id": "91f7bffb-dc82-49bb-b10d-a21382d192d3",
   "metadata": {},
   "outputs": [],
   "source": []
  },
  {
   "cell_type": "markdown",
   "id": "5150d4ce-4546-4494-9364-3caaf5e1425b",
   "metadata": {},
   "source": [
    "### Joining, merging, and concatenating tables"
   ]
  },
  {
   "cell_type": "markdown",
   "id": "f9dbe24b-9d75-4cbb-b6d1-14c6db22c80c",
   "metadata": {},
   "source": []
  },
  {
   "cell_type": "code",
   "execution_count": null,
   "id": "61bb34fc-71a8-4f27-a4e4-8997d6fd7891",
   "metadata": {},
   "outputs": [],
   "source": []
  },
  {
   "cell_type": "markdown",
   "id": "4a5127c9-6ca9-4945-a70c-abd8e92cb25c",
   "metadata": {},
   "source": [
    "## Learning about data: summarizing tables"
   ]
  },
  {
   "cell_type": "markdown",
   "id": "208f6cdd-8c42-4217-beb7-f9c45f96bcbb",
   "metadata": {},
   "source": [
    "### `.describe()` and summary stats"
   ]
  },
  {
   "cell_type": "code",
   "execution_count": null,
   "id": "fd66c938-7e8d-47b1-9176-840489ba65f8",
   "metadata": {},
   "outputs": [],
   "source": []
  },
  {
   "cell_type": "code",
   "execution_count": null,
   "id": "9c2cd20f-96bc-4d06-9e21-c604b5d4e3a6",
   "metadata": {},
   "outputs": [],
   "source": []
  },
  {
   "cell_type": "markdown",
   "id": "b8da1ca4-8da7-4973-987f-ca889c00c109",
   "metadata": {},
   "source": [
    "### Plotting"
   ]
  },
  {
   "cell_type": "code",
   "execution_count": null,
   "id": "afb938da-9839-4c6c-a6f2-7cd00d0dc468",
   "metadata": {},
   "outputs": [],
   "source": []
  },
  {
   "cell_type": "code",
   "execution_count": null,
   "id": "535aec0e-09aa-4a2e-a52a-6f93683f9699",
   "metadata": {},
   "outputs": [],
   "source": []
  },
  {
   "cell_type": "markdown",
   "id": "a238e17f-59b3-444c-94ed-ede0336feaf8",
   "metadata": {},
   "source": [
    "### Cross tabulation"
   ]
  },
  {
   "cell_type": "code",
   "execution_count": null,
   "id": "28f378e8-5684-4f4b-9a65-6b2ca7e38e4c",
   "metadata": {},
   "outputs": [],
   "source": []
  },
  {
   "cell_type": "code",
   "execution_count": null,
   "id": "35ca24f7-dc4d-4b44-b385-7e3a79ce48c6",
   "metadata": {},
   "outputs": [],
   "source": []
  },
  {
   "cell_type": "markdown",
   "id": "cb1251ea-7301-4c18-9245-5b603a8a8c80",
   "metadata": {},
   "source": [
    "## Data wrangling: finding, loading, and saving data"
   ]
  },
  {
   "cell_type": "markdown",
   "id": "e1c18dc8-b07e-47f6-b583-455f8a72ae98",
   "metadata": {},
   "source": [
    "TODO: Motivation"
   ]
  },
  {
   "cell_type": "code",
   "execution_count": null,
   "id": "2144cd22-d0fd-49a4-852f-a6bbbd8d9704",
   "metadata": {},
   "outputs": [],
   "source": [
    "# TODO: Example"
   ]
  },
  {
   "cell_type": "code",
   "execution_count": null,
   "id": "20a4abb0-8834-4076-b3fe-38358ed40373",
   "metadata": {},
   "outputs": [],
   "source": []
  }
 ],
 "metadata": {
  "kernelspec": {
   "display_name": "Python 3 (ipykernel)",
   "language": "python",
   "name": "python3"
  },
  "language_info": {
   "codemirror_mode": {
    "name": "ipython",
    "version": 3
   },
   "file_extension": ".py",
   "mimetype": "text/x-python",
   "name": "python",
   "nbconvert_exporter": "python",
   "pygments_lexer": "ipython3",
   "version": "3.12.5"
  }
 },
 "nbformat": 4,
 "nbformat_minor": 5
}
