{
 "cells": [
  {
   "cell_type": "markdown",
   "id": "c8ae6945-4b93-4eaf-b693-19e864a33eb4",
   "metadata": {},
   "source": [
    "# Spatial data processing"
   ]
  },
  {
   "cell_type": "markdown",
   "id": "c40224c6-ea91-40fd-b96f-bd06b9a9fcac",
   "metadata": {},
   "source": [
    "**Spatial data processing** (or **geoprocessing**) is the use of tools and functions to analyze and manipulate geographic data, often to create new data or information. \n",
    "\n",
    "It's like doing applied math on map data — combining, measuring, or filtering spatial data to get new information. Here are a couple of examples:\n",
    "\n",
    "- **Buffer**: Creating a zone around a feature, like drawing a 1km area around a school.\n",
    "- **Clip**: Cutting one layer by the shape of another, like trimming land-use data to the boundary of a city.\n",
    "\n",
    "These help answer spatial questions like “What’s within walking distance?” or “How much green-space is inside this area?” or \"How many libraries are in each neighbourhood?\"\n",
    "\n",
    "There are many ways to interact with spatial data - ranging from getting geometric points from addresses, to intersecting a different spatial datasets. In this notebook, we'll cover a number of commonly used spatial data processing functions. \n",
    "\n",
    "We'll show the examples using `geopandas`, however every one of these examples can easily be done in GIS software and many other libraries for working with spatial data.\n"
   ]
  },
  {
   "cell_type": "code",
   "execution_count": null,
   "id": "f1909ada-0c74-4b5b-9373-1a5afef9616c",
   "metadata": {},
   "outputs": [],
   "source": [
    "import pandas as pd\n",
    "import geopandas as gpd\n",
    "import matplotlib.pyplot as plt"
   ]
  },
  {
   "cell_type": "markdown",
   "id": "871e5c36-7529-4f56-a217-ead8b8c0cc05",
   "metadata": {},
   "source": [
    "Let's remind ourselves of some key concepts to start with. For a broader overview, check out our notebook on [Spatial data and GIS](../spatial-data-and-gis/spatial-data-and-gis.md)\n",
    "\n",
    "First, there are two major types of spatial data.\n",
    " - **Vector** data represents geographic features as discrete points, lines, and polygons, making it ideal for boundaries, roads, or point locations like cities.\n",
    " - **Raster** data stores information in a grid of pixels (cells), often used for continuous data like elevation models or satellite imagery.\n",
    "\n",
    "In this notebook, we'll mostly be working with vector data, which consists of three common types of geometry.\n",
    " 1. **Points** are zero-dimensional coordinates (e.g., a library’s latitude/longitude).\n",
    " 2. **Lines** are one-dimensional sequences of points (e.g., rivers, roads, or transit routes).\n",
    " 3. **Polygons** are two-dimensional enclosed shapes (e.g., political boundaries, lakes, or census tracts).\n",
    "\n",
    "These can be projected into different [Coordinate Reference Systems (CRS)](https://en.wikipedia.org/wiki/Spatial_reference_system), which define how spatial data maps to the Earth’s surface. For example, WGS84 (EPSG:4326) is common for global latitude/longitude coordinates, while UTM zones (e.g., EPSG:32617) minimize distortion for local measurements. \n",
    "\n",
    "Choosing the right CRS ensures accurate distances, areas, and spatial relationships.\n",
    "\n",
    "When we are comparing and relating multiple spatial datasets to each other, we have to ensure that they are in the same CRS."
   ]
  },
  {
   "cell_type": "markdown",
   "id": "24b07804-de62-402f-bf70-6e398fcf1e00",
   "metadata": {},
   "source": [
    "In order to process spatial data we will be working with three datasets today (you can also download them by clicking on the link):\n",
    " - Toronto Public Libraries (TPL) branches ([tpl-branch-general-information-2023.csv](https://github.com/schoolofcities/urban-data-storytelling/blob/main/notebooks/urban-data-analytics/spatial-data-processing/data/tpl-branch-general-information-2023.csv)), which contains information about each of the libraries in the TPL\n",
    " - Toronto's wards ([city-wards.gpkg](https://github.com/schoolofcities/urban-data-storytelling/blob/main/notebooks/urban-data-analytics/spatial-data-processing/data/city-wards.gpkg)), each of which have a city councillor\n",
    " - Toronto's regions ([toronto-regions.gpkg](https://github.com/schoolofcities/urban-data-storytelling/blob/main/notebooks/urban-data-analytics/spatial-data-processing/data/toronto-regions.gpkg)), which are the former municipalities that were amalgamated in 1998 to make modern Toronto"
   ]
  },
  {
   "cell_type": "code",
   "execution_count": null,
   "id": "37d09d8c-61f0-4bc5-98a2-506589d23879",
   "metadata": {},
   "outputs": [],
   "source": [
    "df_tpl = pd.read_csv('./data/tpl-branch-general-information-2023.csv')\n",
    "gdf_wards = gpd.read_file('./data/city-wards.gpkg')\n",
    "gdf_regions = gpd.read_file('./data/toronto-regions.gpkg')"
   ]
  },
  {
   "cell_type": "markdown",
   "id": "2f390851-d6e0-471c-9854-60bf9521ec28",
   "metadata": {},
   "source": [
    "## Geocoding"
   ]
  },
  {
   "cell_type": "markdown",
   "id": "eab4924d-453b-47b3-aa5d-40ec8874412f",
   "metadata": {},
   "source": [
    "**Geocoding** converts addresses (e.g. `\"100 Queen St, Toronto, ON M5H 2N2\"`) into geographic coordinates (e.g. `[-79.3840, 43.6536]`) that can be plotted on a map and analyzed in GIS or Python.\n",
    "\n",
    "Of course we can simply input the the string for an address into Google Map, search for it, and manually record the coordinate location. However, this wouldn't be practical if we had a big list of addresses. Let's take a the `.csv` data that we loaded for library locations. There are 112 in Toronto!"
   ]
  },
  {
   "cell_type": "code",
   "execution_count": null,
   "id": "88ad1c2f-1f19-4d7f-a851-960465b68ebb",
   "metadata": {},
   "outputs": [],
   "source": [
    "df_tpl[[\"BranchName\",\"Address\"]]"
   ]
  },
  {
   "cell_type": "markdown",
   "id": "73205783-1823-4277-bb0b-8ff6aac64609",
   "metadata": {},
   "source": [
    "A geocoding function, either in Python or GIS, typically relies on an external **geocoder**, a service that turns addresses or place names into map coordinates. Large companies like Google, Apple, and Mapbox provide geocoding services. However, these require an API key and often have a tiered pricing model. There are free tools as well, for example [Nominatim](https://nominatim.org/) which queries OpenStreetMap’s database. This is what we will use in this notebook.\n",
    "\n",
    "In GeoPandas, the [function for geocoding](https://geopandas.org/en/stable/docs/reference/api/geopandas.tools.geocode.html) is `geopandas.tools.geocode()`. This transforms a DataFrame of addresses into a GeoDataFrame with `Point` geometries, enabling spatial analysis.\n",
    "\n",
    "Free geocoding services usually allow about one query per second - since we have over 100 library branches, you'll have to wait a little bit! :)"
   ]
  },
  {
   "cell_type": "code",
   "execution_count": null,
   "id": "3bb01b85-bb07-4e44-bab1-4a761cf938f6",
   "metadata": {},
   "outputs": [],
   "source": [
    "gdf_tpl = gpd.tools.geocode(\n",
    "    df_tpl[\"Address\"],  \n",
    "    provider=\"nominatim\",      \n",
    "    user_agent=\"tpl-workshop\",\n",
    "    timeout=10\n",
    ")\n",
    "\n",
    "# Add in and fix columns\n",
    "gdf_tpl['Address'] = df_tpl['Address']\n",
    "gdf_tpl['BranchName'] = df_tpl['BranchName']\n",
    "gdf_tpl = gdf_tpl.drop(columns=['address'])\n",
    "gdf_tpl = gdf_tpl.to_crs(4326)"
   ]
  },
  {
   "cell_type": "code",
   "execution_count": null,
   "id": "303420b8-0592-4aa2-b675-0c9731102aee",
   "metadata": {},
   "outputs": [],
   "source": [
    "## In case you don't want to run and wait for the geocoding to work, we've precomputed it and you can load\n",
    "gdf_tpl = gpd.read_file('./data/tpl.gpkg')"
   ]
  },
  {
   "cell_type": "code",
   "execution_count": null,
   "id": "1030f276-e3de-42c6-9ae5-10f677d448ee",
   "metadata": {},
   "outputs": [],
   "source": [
    "gdf_tpl.head()"
   ]
  },
  {
   "cell_type": "markdown",
   "id": "3df7552f-20f8-4924-8a48-d4de8bc3e9e3",
   "metadata": {},
   "source": [
    "Great! now we can map and analyze this data relative to other spatial data"
   ]
  },
  {
   "cell_type": "markdown",
   "id": "d38f6a0c-96f8-4436-a42a-a4fea3f3adaa",
   "metadata": {},
   "source": [
    "## Buffer\n",
    "\n",
    "**Buffers** create zones around geometries at a specified distance\n",
    "\n",
    "For example, if we wanted to map the area that is within 1km of the nearest library, we would compute a buffer with the point locations of libraries as the input using [the function](https://geopandas.org/en/stable/docs/reference/api/geopandas.GeoSeries.buffer.html) `.buffer(N)` (or [accompanying methods](https://docs.qgis.org/3.40/en/docs/gentle_gis_introduction/vector_spatial_analysis_buffers.html) in QGIS).\n",
    "\n",
    "Buffers can be super useful on their own, but they can also be important steps in analyses. For example, you could take buffers of library locations and then count the number of households within each buffer.\n",
    "\n",
    "Try running the code below to compute buffers for library locations, you can also test different buffer distances! :)"
   ]
  },
  {
   "cell_type": "code",
   "execution_count": null,
   "id": "1c459d99-a15a-434d-b818-357a6f38ee01",
   "metadata": {},
   "outputs": [],
   "source": [
    "# converts to UTM Zone 17, which is in metres\n",
    "gdf_tpl = gdf_tpl.to_crs(\"EPSG:32617\") \n",
    "\n",
    "# generate buffer at 1km (1000m)\n",
    "gdf_tpl[\"buffer_1km\"] = gdf_tpl.buffer(1000)"
   ]
  },
  {
   "cell_type": "markdown",
   "id": "7dc279a5-d9dc-4e20-80d1-7f1331b6fab8",
   "metadata": {},
   "source": [
    "Great! let's see what this looks like"
   ]
  },
  {
   "cell_type": "code",
   "execution_count": null,
   "id": "a10730ef-70a1-41fd-8f88-ee65e41fa95c",
   "metadata": {},
   "outputs": [],
   "source": [
    "# Compare the wards and their center points\n",
    "ax = gdf_wards.plot(alpha=0.25, edgecolor='black', color=\"pink\", linewidth=1)\n",
    "gdf_tpl.set_geometry(\"buffer_1km\").plot(ax=ax, color=\"lightblue\", edgecolor=\"blue\")"
   ]
  },
  {
   "cell_type": "markdown",
   "id": "9311d687-9bd3-43bd-a7a5-0f361e8c349e",
   "metadata": {},
   "source": [
    "## Dissolve\n",
    "\n",
    "**Dissolve** merges multiple features into one, either based on a shared attribute or as a single unified shape.\n",
    "\n",
    "You might have noticed that many of the buffered library polygons overlapped each other. We can use the method `.dissolve()` [from geopandas](https://geopandas.org/en/stable/docs/user_guide/aggregation_with_dissolve.html#dissolve-example), to combine all into a single polygon."
   ]
  },
  {
   "cell_type": "code",
   "execution_count": null,
   "id": "03a661f7-12d1-4c37-9b8d-9638e0a065a2",
   "metadata": {},
   "outputs": [],
   "source": [
    "gdf_tpl_dissolved = gdf_tpl.set_geometry(\"buffer_1km\").dissolve()"
   ]
  },
  {
   "cell_type": "markdown",
   "id": "e4582014-d6dd-42dd-a8ea-cf21a81433ed",
   "metadata": {},
   "source": [
    "Let's plot it! Notice how all buffers that were overlapping are now merged into one much larger geometry"
   ]
  },
  {
   "cell_type": "code",
   "execution_count": null,
   "id": "d43dc334-a23c-4f5f-90d6-50be95fd2c42",
   "metadata": {},
   "outputs": [],
   "source": [
    "ax = gdf_wards.plot(alpha=0.25, edgecolor='black', color=\"pink\", linewidth=1)\n",
    "gdf_tpl_dissolved.plot(ax=ax, color=\"lightblue\", edgecolor=\"blue\")"
   ]
  },
  {
   "cell_type": "markdown",
   "id": "a6e827f7-9c22-4237-8c25-39a5a182f9d8",
   "metadata": {},
   "source": [
    "Great! having this as one geometry can be useful for quick question like asking how much of the city (in terms of area) is within 1km of a public library. If we did this calculation on just the buffered polygon, we would be double counting areas of overlap."
   ]
  },
  {
   "cell_type": "code",
   "execution_count": null,
   "id": "604c14a7-009b-4d90-8899-45799fbc122c",
   "metadata": {},
   "outputs": [],
   "source": [
    "# computing area of the dissolved polygon, dividing to covert to km2\n",
    "gdf_tpl_dissolved.buffer_1km.area / (1000 * 1000)"
   ]
  },
  {
   "cell_type": "markdown",
   "id": "22590f85-c032-4de0-af32-b316ce965dc4",
   "metadata": {},
   "source": [
    "## Centroids"
   ]
  },
  {
   "cell_type": "markdown",
   "id": "3bdc508d-e452-46ec-b358-19eea81dcc0c",
   "metadata": {},
   "source": [
    "**Centroids** are the geometric center point of polygons \n",
    "\n",
    "Computing centroids is useful for urban analyses because it gives a single representative point for each area, which is helpful for labeling, spatial joins, spatial selections, or other further processing of spatial data. For example, we could compute the centroid of each ward in Toronto, and then try to find the closest hospital to each."
   ]
  },
  {
   "cell_type": "markdown",
   "id": "2b43208b-bf8b-436c-8ecc-74d2636e6f6a",
   "metadata": {},
   "source": [
    "In `geopandas` we can use [the method](https://geopandas.org/en/stable/docs/reference/api/geopandas.GeoSeries.centroid.html) `.centroid` to return a Point geometry for each feature. Here's a quick example of finding the centroids of Toronto wards"
   ]
  },
  {
   "cell_type": "code",
   "execution_count": null,
   "id": "13dbdad3-31cb-4173-a12d-0642aaba3ba1",
   "metadata": {},
   "outputs": [],
   "source": [
    "# Convert to UTM Zone 17N (meters)  \n",
    "gdf_wards = gdf_wards.to_crs(\"EPSG:32617\")  \n",
    "\n",
    "# Compute centroids (as Point geometries)  \n",
    "gdf_wards[\"centroid\"] = gdf_wards.centroid  \n",
    "\n",
    "# Compare the wards and their center points\n",
    "ax = gdf_wards.plot(alpha=0.25, edgecolor='black', color=\"pink\", linewidth=1)\n",
    "gdf_wards.set_geometry(\"centroid\").plot(ax=ax, color=\"purple\", markersize=10)"
   ]
  },
  {
   "cell_type": "markdown",
   "id": "1e845bce-584f-4a37-9610-399f360f78a9",
   "metadata": {},
   "source": [
    "## Spatial Selections"
   ]
  },
  {
   "cell_type": "markdown",
   "id": "5d268fdf-3130-44e6-b569-71aa5704d079",
   "metadata": {},
   "source": [
    "**Spatial selections**, or **spatial queries**, are ways we can filter datasets based on their locations relative to other spatial features and datasets.\n",
    "\n",
    "This can have a wide variety of applications. For example, you can filter ...\n",
    "\n",
    "- Library locations that are within a neighbourhood\n",
    "- Schools that are within a set distance of an expressway\n",
    "- Streets that cross railroad tracks\n",
    "- Parks that contain baseball fields\n",
    "- And more!\n",
    "\n",
    "Let's try the first example, libraries that are within a neighbourhood.\n",
    "\n",
    "Let's load in the data, and convert to a common CRS so the data can be related to each other accurately."
   ]
  },
  {
   "cell_type": "code",
   "execution_count": null,
   "id": "9278591d-f06f-4137-b0b8-617f3cb510fd",
   "metadata": {},
   "outputs": [],
   "source": [
    "gdf_tpl = gpd.read_file('./data/tpl.gpkg').to_crs(\"EPSG:32617\") \n",
    "gdf_regions = gpd.read_file('./data/toronto-regions.gpkg').to_crs(\"EPSG:32617\") "
   ]
  },
  {
   "cell_type": "markdown",
   "id": "49e54ffa-07ec-4fb3-93a9-c0a6488242d0",
   "metadata": {},
   "source": [
    "The `gdf_regions` are the 6 former municipalities of Toronto prior to amalgamation."
   ]
  },
  {
   "cell_type": "code",
   "execution_count": null,
   "id": "94feef60-cbee-43b1-90d4-4603ec580348",
   "metadata": {},
   "outputs": [],
   "source": [
    "gdf_regions"
   ]
  },
  {
   "cell_type": "markdown",
   "id": "cbe5b5b3-d0fb-4a27-af7f-5e2024a68fd3",
   "metadata": {},
   "source": [
    "Lets try to query our dataset of public library locations to find only those within `SCARBOROUGH`, via `.intersects`"
   ]
  },
  {
   "cell_type": "code",
   "execution_count": null,
   "id": "911ad5e6-d13f-4fb5-9f9b-7c0156dc4e0d",
   "metadata": {},
   "outputs": [],
   "source": [
    "# Get Scarborough's polygon from regions  \n",
    "scarborough = gdf_regions[gdf_regions[\"REGION_NAME\"] == \"SCARBOROUGH\"].geometry.iloc[0]  \n",
    "\n",
    "# filter the library dataset via a spatial selection, specifically .intersects\n",
    "gdf_tpl[gdf_tpl.intersects(scarborough)]"
   ]
  },
  {
   "cell_type": "markdown",
   "id": "70a360c2-4829-4662-8353-e62298f2a19b",
   "metadata": {},
   "source": [
    "If we wanted to simply count the number of libraries in Scarborough, we can do that too!"
   ]
  },
  {
   "cell_type": "code",
   "execution_count": null,
   "id": "f522a1bc-118c-4757-b0f8-8de540d6a4ab",
   "metadata": {},
   "outputs": [],
   "source": [
    "len(gdf_tpl[gdf_tpl.intersects(scarborough)])"
   ]
  },
  {
   "cell_type": "markdown",
   "id": "6c3d6d97-376a-400b-985f-00643208feb8",
   "metadata": {},
   "source": [
    "`.intersects` is just one of several spatial selection methods. Here's a list of several options in `.geopandas`. QGIS and other GIS software all have the same options, but they might just have different names.\n",
    "\n",
    "| Method              | Description                                | Docs                                                                 |\n",
    "|---------------------|--------------------------------------------|----------------------------------------------------------------------|\n",
    "| `intersects()`      | Returns `True` if geometries intersect     | [intersects](https://geopandas.org/en/stable/docs/reference/api/geopandas.GeoSeries.intersects.html) |\n",
    "| `contains()`        | `True` if geometry completely contains the other | [contains](https://geopandas.org/en/stable/docs/reference/api/geopandas.GeoSeries.contains.html)     |\n",
    "| `within()`          | `True` if geometry is within another       | [within](https://geopandas.org/en/stable/docs/reference/api/geopandas.GeoSeries.within.html)         |\n",
    "| `crosses()`         | `True` if geometry crosses the other       | [crosses](https://geopandas.org/en/stable/docs/reference/api/geopandas.GeoSeries.crosses.html)       |\n",
    "| `overlaps()`        | `True` if geometries partially overlap     | [overlaps](https://geopandas.org/en/stable/docs/reference/api/geopandas.GeoSeries.overlaps.html)     |\n",
    "| `touches()`         | `True` if geometries touch at boundary only| [touches](https://geopandas.org/en/stable/docs/reference/api/geopandas.GeoSeries.touches.html)       |\n",
    "| `equals()`          | `True` if geometries are exactly equal     | [equals](https://geopandas.org/en/stable/docs/reference/api/geopandas.GeoSeries.equals.html)         |\n",
    "| `disjoint()`        | `True` if geometries have no overlap at all| [disjoint](https://geopandas.org/en/stable/docs/reference/api/geopandas.GeoSeries.disjoint.html)     |\n",
    "| `covers()`          | `True` if geometry covers the other        | [covers](https://geopandas.org/en/stable/docs/reference/api/geopandas.GeoSeries.covers.html)         |\n",
    "| `covered_by()`      | `True` if geometry is covered by the other | [covered_by](https://geopandas.org/en/stable/docs/reference/api/geopandas.GeoSeries.covered_by.html) |\n",
    "| `distance()`        | Returns distance to the other geometry     | [distance](https://geopandas.org/en/stable/docs/reference/api/geopandas.GeoSeries.distance.html)     |"
   ]
  },
  {
   "cell_type": "markdown",
   "id": "54eee90b-cc42-4969-ad38-160dde7eaaed",
   "metadata": {},
   "source": [
    "## Spatial Joins"
   ]
  },
  {
   "cell_type": "markdown",
   "id": "fe80d47f-e83f-473f-afa8-4e8659d12573",
   "metadata": {},
   "source": [
    "**Spatial joins** combine data from two spatial datasets based their spatial (i.e. geographic) relationship, allowing you to connect attributes from different layers. This is similar to a table join, but instead of joining data based tabular data (e.g. matching ID columns), we are joining data based on spatial relationships.\n",
    "\n",
    "For example, you can match points (libraries) to polygons (wards) to see which administrative district contains each facility. And further, count how many libraries are in each.\n",
    "\n",
    "This is similar to doing spatial selections and queries, but instead of filtering one of our input datasets, we are creating a new dataset."
   ]
  },
  {
   "cell_type": "code",
   "execution_count": null,
   "id": "f077f154-7699-4200-9250-6ba45dd3e368",
   "metadata": {},
   "outputs": [],
   "source": [
    "crs = \"EPSG:32617\"\n",
    "gdf_tpl = gpd.read_file('./data/tpl.gpkg').to_crs(crs) \n",
    "gdf_regions = gpd.read_file('./data/toronto-regions.gpkg').to_crs(crs) "
   ]
  },
  {
   "cell_type": "markdown",
   "id": "5ee39d08-1e78-46d4-8032-f2a8d8304586",
   "metadata": {},
   "source": [
    "Great! let's begin by trying to join region names to library locations.\n",
    "\n",
    "We can do this using the [geopandas method](https://geopandas.org/en/stable/docs/reference/api/geopandas.sjoin.html) `.sjoin()` (see [similar documentation for QGIS](https://www.qgistutorials.com/en/docs/performing_spatial_joins.html))."
   ]
  },
  {
   "cell_type": "code",
   "execution_count": null,
   "id": "68490cc6-ec22-4823-966b-570907c6eae0",
   "metadata": {},
   "outputs": [],
   "source": [
    "gdf_tpl_with_regions = gpd.sjoin(\n",
    "    gdf_tpl, \n",
    "    gdf_regions[['REGION_NAME', 'geometry']], \n",
    "    how='left', \n",
    "    predicate='within'\n",
    ")\n",
    "gdf_tpl_with_regions.head()"
   ]
  },
  {
   "cell_type": "markdown",
   "id": "4dff60e3-de92-4897-a106-99f9d0a32938",
   "metadata": {},
   "source": [
    "The parameter `predicate=` can be one of several options for spatial relationship noted in the above section (e.g. `.intersects`, `.within`, `.crosses`, etc.). The parameter `how=` is for the type of joing (e.g. left, inner, right, etc.)\n",
    "\n",
    "View more in the [geopandas documentation](https://geopandas.org/en/stable/docs/reference/api/geopandas.GeoDataFrame.sjoin.html#geopandas.GeoDataFrame.sjoin) page for spatial joins.\n",
    "\n",
    "Doing a spatial join can then lead to a range of subsequent analyses, for example counting the number of libraries in each region. If you had numeric data, for example the number of books in each branch, the following count be expanded to compute `sum`, `mean`, etc. for each group."
   ]
  },
  {
   "cell_type": "code",
   "execution_count": null,
   "id": "98557734-348b-4169-90d9-ddc3a71f664c",
   "metadata": {},
   "outputs": [],
   "source": [
    "gdf_tpl_with_regions.groupby('REGION_NAME').size()"
   ]
  },
  {
   "cell_type": "markdown",
   "id": "fd8b3114-61e5-4885-9732-7ea7940b6cb2",
   "metadata": {},
   "source": [
    "## Overlay Operations"
   ]
  },
  {
   "cell_type": "markdown",
   "id": "8b6de9ec-7fc0-4130-9e16-a27286bb3f40",
   "metadata": {},
   "source": [
    "*Overlay** operations take two spatial datasets and produce a new one based on the spatial relationships between their geometries.\n",
    "\n",
    "| Operation              | Description                                                                 |\n",
    "|------------------------|-----------------------------------------------------------------------------|\n",
    "| `intersection`         | Finds only the overlapping areas between two layers                         |\n",
    "| `union`                | Merges all geometries from both layers into a single combined shape         |\n",
    "| `symmetric_difference` | Keeps geometry that is in **either** layer but **not both**                 |\n",
    "| `difference`           | Extracts parts of the **first** layer that are **not** covered by the second|\n"
   ]
  },
  {
   "cell_type": "markdown",
   "id": "fc9ba0d9-f601-48fe-a220-e046812c8a22",
   "metadata": {},
   "source": [
    "The image below is adapted from the [full tutorial](https://geopandas.org/en/stable/docs/user_guide/set_operations.html) in `geopandas` on this topic which you can look at for more details. QGIS also has [similar functions available](https://docs.qgis.org/3.40/en/docs/user_manual/processing_algs/qgis/vectoroverlay.html)."
   ]
  },
  {
   "attachments": {
    "65352957-8e74-48cd-a6a6-3d8bdb1b2e3b.png": {
     "image/png": "[encoded data removed]"
    }
   },
   "cell_type": "markdown",
   "id": "39984d8c-13f4-4ff4-bd11-78e858573cd7",
   "metadata": {},
   "source": [
    "![image.png](attachment:65352957-8e74-48cd-a6a6-3d8bdb1b2e3b.png)!"
   ]
  },
  {
   "cell_type": "markdown",
   "id": "6651382a-cf23-4a8c-9af7-8d8400681bda",
   "metadata": {},
   "source": [
    "In `geopandas` these operations are performed using `gpd.overlay()` \n",
    "\n",
    "Let's take a look at quick example, trying to find the portions of wards in Toronto that overlap with the Old Toronto region area."
   ]
  },
  {
   "cell_type": "code",
   "execution_count": null,
   "id": "3eb6e2b7-45eb-4638-b7f8-3cca4cd99ac6",
   "metadata": {},
   "outputs": [],
   "source": [
    "crs = 32617\n",
    "gdf_wards = gpd.read_file('./data/city-wards.gpkg').to_crs(crs)\n",
    "gdf_regions = gpd.read_file('./data/toronto-regions.gpkg').to_crs(crs)"
   ]
  },
  {
   "cell_type": "code",
   "execution_count": null,
   "id": "bc3a6e5b-c1cc-45de-8d53-2f2dc70d0739",
   "metadata": {},
   "outputs": [],
   "source": [
    "# Get Old Toronto polygon\n",
    "old_toronto = gdf_regions[gdf_regions[\"REGION_NAME\"] == \"TORONTO\"]\n",
    "\n",
    "# Find intersecting wards\n",
    "intersection = gpd.overlay(gdf_wards, old_toronto, how=\"intersection\", keep_geom_type=False)\n",
    "\n",
    "intersection.plot()"
   ]
  },
  {
   "cell_type": "markdown",
   "id": "e9ff2a76-c4ea-4ebd-834c-142002cd346d",
   "metadata": {},
   "source": [
    "This has returned the portions of wards that overlaped with the Old Toronto polygon.\n",
    "\n",
    "By overlaying all the wards, we can see below that the orange area has been cut out "
   ]
  },
  {
   "cell_type": "code",
   "execution_count": null,
   "id": "a9dc0bcd-7062-4ecc-8667-610da28f8761",
   "metadata": {},
   "outputs": [],
   "source": [
    "ax = gdf_wards.plot(alpha=0.5, edgecolor='white', color=\"pink\", linewidth=1)\n",
    "intersection.plot(ax=ax, edgecolor='white', color=\"orange\", linewidth=1)\n",
    "gdf_wards.plot(ax=ax, edgecolor='blue', color=\"none\", linewidth=1)"
   ]
  }
 ],
 "metadata": {
  "kernelspec": {
   "display_name": "Python 3 (ipykernel)",
   "language": "python",
   "name": "python3"
  },
  "language_info": {
   "codemirror_mode": {
    "name": "ipython",
    "version": 3
   },
   "file_extension": ".py",
   "mimetype": "text/x-python",
   "name": "python",
   "nbconvert_exporter": "python",
   "pygments_lexer": "ipython3",
   "version": "3.12.5"
  }
 },
 "nbformat": 4,
 "nbformat_minor": 5
}
