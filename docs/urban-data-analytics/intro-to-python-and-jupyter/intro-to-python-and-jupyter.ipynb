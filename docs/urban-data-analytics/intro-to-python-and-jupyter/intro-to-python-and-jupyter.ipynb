{
 "cells": [
  {
   "cell_type": "raw",
   "metadata": {},
   "source": [
    "---\n",
    "title: \"Programming with Python and computational notebooks\"\n",
    "author: \"Julia Greenberg\"\n",
    "---"
   ]
  },
  {
   "cell_type": "markdown",
   "metadata": {},
   "source": [
    "Coding, or computer programming, is the act of giving a computer written instructions for a task or set of tasks. According to [Wikipedia](https://en.wikipedia.org/wiki/Computer_programming), it \"involves designing and implementing algorithms, step-by-step specifications of procedures, by writing code in one or more programming languages.\"\n",
    "\n",
    "Programming languages, just like *Python* and *R* and *JavaScript* can be thought of similarly to languages that people speak and write, like Spanish or Arabic -- each language has its own set of rules and different syntax, but (most) ideas can be translated from one language to another. Instead of using language to communicate with other people, you write code to give directions to a computer. In data analysis, these directions could be to summarize data in a table, create a chart or a map, or generate a statistical model, for example. \n",
    "\n",
    "\n",
    "## Why learn programming?\n",
    "\n",
    "Spreadsheet software, like [Excel](https://www.microsoft.com/en-us/microsoft-365/excel), [Google Sheets](https://workspace.google.com/products/sheets/), and [LibreOffice calc](https://www.libreoffice.org/discover/calc/) can be great for viewing and exploring data, as well as quick analyses, they can be super limited for serious data analysis. They struggle with large datasets, lacks robust tools for cleaning and transforming complex data, have very limited options for spatial/geographic data, and makes reproducibility nearly impossible. Plus, it's easy to introduce silent errors with formulas or copy-pasting. For anything beyond basic summaries or charts, scripting languages like Python are far more powerful, reliable, and scalable.\n",
    "\n",
    "(If you are not interested in learning Python, many of the other notebooks in this online textbook that show Python examples, include links to equivalent examples in QGIS or Excel).\n",
    "\n",
    "\n",
    "## Why learn Python?\n",
    "\n",
    "[Python](https://www.python.org/doc/essays/blurb/) is a widely used programming language, especially in urban and spatial analysis because it's easy to learn relative to other languages and has a strong ecosystem of libraries for working with data, maps, and models. Plus, it's open source and has a huge community, which means lots of learning resources and support.\n",
    "\n",
    "This notebook introduces the Python programming language and Jupyter notebooks. It will cover:\n",
    "\n",
    "- A brief overview of programming, Python, integrated development environments (IDEs), and computational notebooks\n",
    "- How to run a Python (`.py`) script in the terminal\n",
    "- How to run code using Jupyter Notebook (`.ipynb`) in Visual Studio Code\n",
    "- The basics of coding in Python, including:\n",
    "    - Variables\n",
    "    - Simple math\n",
    "    - Lists and dictionaries\n",
    "    - If statements\n",
    "    - For and while loops\n",
    "    - Functions\n",
    "\n",
    "While we'll mostly be looking at Python, the same concepts are applicable across many other languages and software."
   ]
  },
  {
   "cell_type": "markdown",
   "metadata": {},
   "source": [
    "## How does Python work?"
   ]
  },
  {
   "cell_type": "markdown",
   "metadata": {},
   "source": [
    "When you write something in English or another language, you need to choose an environment to write in. For example, if you're writing an email, you might use Gmail or Outlook. If you're writing a report, you might use Google Docs or Microsoft Word. Or maybe you prefer writing on parchment with a quill pen!\n",
    "\n",
    "Python is a programming language that lets you write instructions in a plain text file, often called a *script*, which the Python interpreter on your computer reads and runs line by line. You don’t need to compile your code like in some other languages—just write it, save it as a `.py` file, and run it directly.\n",
    "\n",
    "For example, I have a file on my computer called `my-script.py`, a very simple script which simply prints \"Hello, world!\"\n",
    "\n",
    "```py\n",
    "print(\"Hello, world!\")\n",
    "```\n",
    "\n",
    "When running this code in your [command line](https://ubuntu.com/tutorials/command-line-for-beginners) should result in something like the following. \n",
    "\n",
    "```sh\n",
    "your-computer-name:~$ python my-script.py \n",
    "Hello, world!\n",
    "```\n",
    "\n",
    "The command line is often referred to as the shell, terminal, console, prompt or various other names.\n",
    "\n",
    "If you are new to this, check out this tutorial for more in-depth instructions on [command line Python](https://vteams.com/blog/how-to-run-a-python-script-in-terminal/) "
   ]
  },
  {
   "cell_type": "markdown",
   "metadata": {},
   "source": [
    "## Tools for writing code\n",
    "\n",
    "When coding, you also have to choose an environment to write in. This is typically called a \"code editor\" or \"[integrated development environment](https://en.wikipedia.org/wiki/Integrated_development_environment)\" (IDE). The simplest editor would simply be the `notepad` or `text editor` on your computer.  But there are many IDEs to choose from that make coding much easier. Some of the most popular ones for Python are [Visual Studio Code](https://code.visualstudio.com/) (\"VS Code\") and [PyCharm](https://www.jetbrains.com/pycharm/).\n",
    "\n",
    "A main benefit for using a code editor is that it highlights different parts of your code in different colours or styles making it much easier to read.\n",
    "\n",
    "![Screenshot of part of a Python script in VS Code](img/vs-code.png)\n",
    "\n"
   ]
  },
  {
   "cell_type": "markdown",
   "metadata": {},
   "source": [
    "## Computational notebooks\n",
    "\n",
    "There are many different ways to execute code, or tell the computer to perform the instructions you've written. If you write your code in a file that's saved with the `.py` file extension, you can run it all at once, and the computer will follow all of your instructions, one line at a time. This works well for scripts that are complete and do not need to be run in separate chunks.\n",
    "\n",
    "If you are exploring, analyzing, or visualizing data, it is sometimes easier to work in a *computational notebook*. Computational notebooks are coding environments that not only allow you to write code, but also let you write explanations and show the outputs of your analysis, very similar to pre-digital formats.\n",
    "\n",
    "![Notebook by Galileo](img/galileo-nb.png){width=60%}\n",
    "\n",
    "[Jupyter Notebooks](https://jupyter.org/) (named after Galileo's work!) are often used for data analysis in Python. When using a Jupyter Notebook, you can run code chunk-by-chunk and see the output right below each chunk. For example, you can write a chunk of code that manipulates a dataframe and then look at the first few rows of the dataframe right below the code. The page you are reading now was written in a Jupyter notebook! :)\n",
    "\n",
    "![Example of a Jupyter notebook that is plotting a map](img/python-nb.png)\n",
    "\n",
    "You can run Jupyter Notebooks in VS Code via the [Jupyter Notebook \"extension\"](https://code.visualstudio.com/docs/datascience/jupyter-notebooks). You can also work with notebooks via [Jupyter Lab](https://jupyterlab.readthedocs.io/en/latest/) (a web-based environment for Jupyter Notebooks) or [Sublime Text](https://www.sublimetext.com/).\n",
    "\n",
    "To get started in VS Code, you can follow [these instructions](https://code.visualstudio.com/docs/datascience/jupyter-notebooks). To create a notebook, you just need to create a file with the `.ipynb` extension in whichever directory you want to save it in. To write and run code in the notebook, you will use \"cells\" that contain chunks of information.\n",
    "\n",
    "When you run an individual cell, you are telling the computer to follow the instructions you've provided in only that cell, ignoring any other cells that are in the notebook. Be careful of the order in which you \"execute\" the cells. For example, if you run cell B before running cell A, it doesn't matter if cell B is located below cell A -- the computer will still follow the instructions in B first and A second."
   ]
  },
  {
   "cell_type": "markdown",
   "metadata": {},
   "source": [
    "## Python basics"
   ]
  },
  {
   "cell_type": "markdown",
   "metadata": {},
   "source": [
    "Now that you have Jupyter Notebook set up, let's code! Below, we'll cover some of the basic building blocks of Python.\n",
    "\n",
    "Open up a fresh `.ipynb` file and you can get started building bits of code for each of the topics below"
   ]
  },
  {
   "cell_type": "markdown",
   "metadata": {},
   "source": [
    "### Variables"
   ]
  },
  {
   "cell_type": "markdown",
   "metadata": {},
   "source": [
    "A variable is like a labeled entity that stores information (numbers, text, etc.). You can create a variable, give it a name, and assign it a value.\n",
    "\n",
    "Note that in the below code, some of the lines are written with a `#` at the beginning - these are *comments*. Putting a `#` in front of a line of code tells the computer not to execute it. You should use comments often to explain what your code is doing, either for someone else who might need to understand it or for your future self."
   ]
  },
  {
   "cell_type": "code",
   "execution_count": 1,
   "metadata": {},
   "outputs": [],
   "source": [
    "# Assign a value to a variable\n",
    "name = \"Alice\"\n",
    "age = 30"
   ]
  },
  {
   "cell_type": "markdown",
   "metadata": {},
   "source": [
    "In the above cell, we created two variables, one called `name` and another called `age`. The `name` variable is a *string* because it is a sequence of characters. The computer knows this is a string because we enclosed the text, Alice, in quotes. Single or double quotes both work here.\n",
    "\n",
    "The `age` variable is an *integer* because it is a numeric value without decimals. You can see the data type with `type([name of object])` like below:"
   ]
  },
  {
   "cell_type": "code",
   "execution_count": 2,
   "metadata": {},
   "outputs": [
    {
     "data": {
      "text/plain": [
       "int"
      ]
     },
     "execution_count": 2,
     "metadata": {},
     "output_type": "execute_result"
    }
   ],
   "source": [
    "type(age)"
   ]
  },
  {
   "cell_type": "markdown",
   "metadata": {},
   "source": [
    "If we *print* the variable, it will show us the variable's value:"
   ]
  },
  {
   "cell_type": "code",
   "execution_count": 3,
   "metadata": {},
   "outputs": [
    {
     "name": "stdout",
     "output_type": "stream",
     "text": [
      "30\n"
     ]
    }
   ],
   "source": [
    "print(age)"
   ]
  },
  {
   "cell_type": "markdown",
   "metadata": {},
   "source": [
    "We can also re-assign variables, which will change their value. Now when we print the value of `age`, it will show 31 instead of 30:"
   ]
  },
  {
   "cell_type": "code",
   "execution_count": 4,
   "metadata": {},
   "outputs": [
    {
     "name": "stdout",
     "output_type": "stream",
     "text": [
      "31\n"
     ]
    }
   ],
   "source": [
    "# Re-assign `age` variable with a new value\n",
    "age = 31\n",
    "print(age)"
   ]
  },
  {
   "cell_type": "markdown",
   "metadata": {},
   "source": [
    "Remember that the computer interprets your code in the order you run the cells, not in the order of the cells in the notebook. For example, if you ran the above cell that assigns a value of 31 to the `age` variable before running the cell that assigns the value of 30 to `age`, the computer would store the value of 31."
   ]
  },
  {
   "cell_type": "markdown",
   "metadata": {},
   "source": [
    "### Simple math"
   ]
  },
  {
   "cell_type": "markdown",
   "metadata": {},
   "source": [
    "Python can do simple math, like a calculator:"
   ]
  },
  {
   "cell_type": "code",
   "execution_count": 5,
   "metadata": {},
   "outputs": [
    {
     "data": {
      "text/plain": [
       "7"
      ]
     },
     "execution_count": 5,
     "metadata": {},
     "output_type": "execute_result"
    }
   ],
   "source": [
    "4 + 3"
   ]
  },
  {
   "cell_type": "code",
   "execution_count": 6,
   "metadata": {},
   "outputs": [
    {
     "data": {
      "text/plain": [
       "3.3333333333333335"
      ]
     },
     "execution_count": 6,
     "metadata": {},
     "output_type": "execute_result"
    }
   ],
   "source": [
    "10/3"
   ]
  },
  {
   "cell_type": "markdown",
   "metadata": {},
   "source": [
    "You can also use the [`math`](https://docs.python.org/3/library/math.html) module to access more advanced functions, like taking the square root. To use this module, you have to import it first:"
   ]
  },
  {
   "cell_type": "code",
   "execution_count": 7,
   "metadata": {},
   "outputs": [
    {
     "data": {
      "text/plain": [
       "5.0"
      ]
     },
     "execution_count": 7,
     "metadata": {},
     "output_type": "execute_result"
    }
   ],
   "source": [
    "import math # import module\n",
    "math.sqrt(25)"
   ]
  },
  {
   "cell_type": "markdown",
   "metadata": {},
   "source": [
    "### Lists"
   ]
  },
  {
   "cell_type": "markdown",
   "metadata": {},
   "source": [
    "A list is a collection of elements which can be accessed by their position. Python uses something called [zero-based indexing](https://en.wikipedia.org/wiki/Zero-based_numbering), which means the first element of a sequence has an index (position) of 0 instead of 1.\n",
    "\n",
    "In the below example, `fruits` is a *variable* whose type is a *list*."
   ]
  },
  {
   "cell_type": "code",
   "execution_count": 8,
   "metadata": {},
   "outputs": [
    {
     "data": {
      "text/plain": [
       "list"
      ]
     },
     "execution_count": 8,
     "metadata": {},
     "output_type": "execute_result"
    }
   ],
   "source": [
    "# Assign list to variable called 'fruits'\n",
    "fruits = [\"apple\", \"banana\", \"cherry\"]\n",
    "type(fruits)"
   ]
  },
  {
   "cell_type": "code",
   "execution_count": 9,
   "metadata": {},
   "outputs": [
    {
     "name": "stdout",
     "output_type": "stream",
     "text": [
      "apple\n"
     ]
    }
   ],
   "source": [
    "# Access first item in list\n",
    "print(fruits[0])"
   ]
  },
  {
   "cell_type": "code",
   "execution_count": 10,
   "metadata": {},
   "outputs": [
    {
     "name": "stdout",
     "output_type": "stream",
     "text": [
      "banana\n"
     ]
    }
   ],
   "source": [
    "# Access second item in list\n",
    "print(fruits[1])"
   ]
  },
  {
   "cell_type": "markdown",
   "metadata": {},
   "source": [
    "Items can be appended to lists:"
   ]
  },
  {
   "cell_type": "code",
   "execution_count": 11,
   "metadata": {},
   "outputs": [
    {
     "name": "stdout",
     "output_type": "stream",
     "text": [
      "['apple', 'banana', 'cherry', 'orange']\n"
     ]
    }
   ],
   "source": [
    "# Add \"orange\" to the list\n",
    "fruits.append(\"orange\")\n",
    "print(fruits)"
   ]
  },
  {
   "cell_type": "markdown",
   "metadata": {},
   "source": [
    "We can check the length of the new list to see how many elements it has:"
   ]
  },
  {
   "cell_type": "code",
   "execution_count": 12,
   "metadata": {},
   "outputs": [
    {
     "data": {
      "text/plain": [
       "4"
      ]
     },
     "execution_count": 12,
     "metadata": {},
     "output_type": "execute_result"
    }
   ],
   "source": [
    "len(fruits)"
   ]
  },
  {
   "cell_type": "markdown",
   "metadata": {},
   "source": [
    "Learn more about lists [here](https://www.w3schools.com/python/python_lists.asp)."
   ]
  },
  {
   "cell_type": "markdown",
   "metadata": {},
   "source": [
    "### Dictionaries"
   ]
  },
  {
   "cell_type": "markdown",
   "metadata": {},
   "source": [
    "A dictionary is a type of object that stores information in pairs: each \"entry\" in the dictionary has both a *key* and a *value*. In the example below, `person` is a dictionary that contains characteristics -- specifically the name and age -- of a person."
   ]
  },
  {
   "cell_type": "code",
   "execution_count": 13,
   "metadata": {},
   "outputs": [],
   "source": [
    "person = {\"name\": \"Alice\", \"age\": 30}"
   ]
  },
  {
   "cell_type": "markdown",
   "metadata": {},
   "source": [
    "We can access the value associated with the `name` of the person:"
   ]
  },
  {
   "cell_type": "code",
   "execution_count": 14,
   "metadata": {},
   "outputs": [
    {
     "name": "stdout",
     "output_type": "stream",
     "text": [
      "Alice\n"
     ]
    }
   ],
   "source": [
    "print(person[\"name\"])"
   ]
  },
  {
   "cell_type": "markdown",
   "metadata": {},
   "source": [
    "We can also add a new key-value pair to the dictionary that represents, in this case, the person's job:"
   ]
  },
  {
   "cell_type": "code",
   "execution_count": 15,
   "metadata": {},
   "outputs": [
    {
     "name": "stdout",
     "output_type": "stream",
     "text": [
      "{'name': 'Alice', 'age': 30, 'job': 'Engineer'}\n"
     ]
    }
   ],
   "source": [
    "person[\"job\"] = \"Engineer\"\n",
    "print(person)"
   ]
  },
  {
   "cell_type": "markdown",
   "metadata": {},
   "source": [
    "Learn more about dictionaries [here](https://www.w3schools.com/python/python_dictionaries.asp)."
   ]
  },
  {
   "cell_type": "markdown",
   "metadata": {},
   "source": [
    "### If statements"
   ]
  },
  {
   "cell_type": "markdown",
   "metadata": {},
   "source": [
    "If statements let your code make decisions. You check a condition (e.g., whether age >= 18), and run different code depending on whether it's true or false."
   ]
  },
  {
   "cell_type": "code",
   "execution_count": 16,
   "metadata": {},
   "outputs": [
    {
     "name": "stdout",
     "output_type": "stream",
     "text": [
      "You're an adult!\n"
     ]
    }
   ],
   "source": [
    "age = 18\n",
    "\n",
    "if age >= 18:\n",
    "    print(\"You're an adult!\")\n",
    "else:\n",
    "    print(\"You're a minor.\")"
   ]
  },
  {
   "cell_type": "markdown",
   "metadata": {},
   "source": [
    "Learn more about if statements [here](https://www.w3schools.com/python/python_conditions.asp)."
   ]
  },
  {
   "cell_type": "markdown",
   "metadata": {},
   "source": [
    "### For loops"
   ]
  },
  {
   "cell_type": "markdown",
   "metadata": {},
   "source": [
    "A for loop repeats code for each item in a list or range. For example:"
   ]
  },
  {
   "cell_type": "code",
   "execution_count": 17,
   "metadata": {},
   "outputs": [
    {
     "name": "stdout",
     "output_type": "stream",
     "text": [
      "apple\n",
      "banana\n",
      "cherry\n"
     ]
    }
   ],
   "source": [
    "for fruit in [\"apple\", \"banana\", \"cherry\"]:\n",
    "    print(fruit)"
   ]
  },
  {
   "cell_type": "markdown",
   "metadata": {},
   "source": [
    "Learn more about for loops [here](https://www.w3schools.com/python/python_for_loops.asp)."
   ]
  },
  {
   "cell_type": "markdown",
   "metadata": {},
   "source": [
    "### While loops"
   ]
  },
  {
   "cell_type": "markdown",
   "metadata": {},
   "source": [
    "A while loop repeats code as long as a condition is true. In the below example, we start with 0 and keep adding 1 until we get to 3, after which we stop counting:"
   ]
  },
  {
   "cell_type": "code",
   "execution_count": 18,
   "metadata": {},
   "outputs": [
    {
     "name": "stdout",
     "output_type": "stream",
     "text": [
      "Counting: 0\n",
      "Counting: 1\n",
      "Counting: 2\n",
      "Counting: 3\n"
     ]
    }
   ],
   "source": [
    "count = 0\n",
    "while count <= 3:\n",
    "    print(\"Counting:\", count)\n",
    "    count += 1"
   ]
  },
  {
   "cell_type": "markdown",
   "metadata": {},
   "source": [
    "Learn more about while loops [here](https://www.w3schools.com/python/python_while_loops.asp)."
   ]
  },
  {
   "cell_type": "markdown",
   "metadata": {},
   "source": [
    "### Functions"
   ]
  },
  {
   "cell_type": "markdown",
   "metadata": {},
   "source": [
    "A function is a reusable block of code that performs a task. You \"define\" it (write the code that performs the task) once and \"call\" it (run that pre-defined code) whenever you want. In the below example, we define the function `greet` so that when it is called, it prints \"Hello, [name]!\" where `name` is an *argument* (also known as a *parameter*) that's passed into the function."
   ]
  },
  {
   "cell_type": "code",
   "execution_count": 19,
   "metadata": {},
   "outputs": [
    {
     "name": "stdout",
     "output_type": "stream",
     "text": [
      "Hello, Alice!\n"
     ]
    }
   ],
   "source": [
    "# Define the function\n",
    "def greet(name):\n",
    "    print(f\"Hello, {name}!\")\n",
    "\n",
    "# Call the function\n",
    "greet(\"Alice\")"
   ]
  },
  {
   "cell_type": "markdown",
   "metadata": {},
   "source": [
    "Not all functions need arguments. For example:"
   ]
  },
  {
   "cell_type": "code",
   "execution_count": 20,
   "metadata": {},
   "outputs": [
    {
     "name": "stdout",
     "output_type": "stream",
     "text": [
      "Howdy!\n"
     ]
    }
   ],
   "source": [
    "# Define the function\n",
    "def howdy():\n",
    "    print(\"Howdy!\")\n",
    "\n",
    "# Call the function\n",
    "howdy()"
   ]
  },
  {
   "cell_type": "markdown",
   "metadata": {},
   "source": [
    "Some functions have more than one argument. For example:"
   ]
  },
  {
   "cell_type": "code",
   "execution_count": 21,
   "metadata": {},
   "outputs": [
    {
     "name": "stdout",
     "output_type": "stream",
     "text": [
      "15\n"
     ]
    }
   ],
   "source": [
    "# Define the function\n",
    "def add_numbers(a, b):\n",
    "    c = a + b\n",
    "    print(c)\n",
    "\n",
    "# Call the function\n",
    "add_numbers(8, 7)"
   ]
  },
  {
   "cell_type": "markdown",
   "metadata": {},
   "source": [
    "While all of the example functions listed above result in something being printed out, most functions do more than that. For example, a single function can filter a dataset based on a set of values, manipulate the resulting dataset, and create a plot.\n",
    "\n",
    "Learn more about functions [here](https://www.w3schools.com/python/python_functions.asp)."
   ]
  },
  {
   "cell_type": "markdown",
   "metadata": {},
   "source": [
    "### Libraries\n",
    "\n",
    "Libraries are collections of related functions that do things like analyze data, draw charts, or work with maps. \n",
    "\n",
    "Many libraries like `math` for a variety of mathematical operations, `os` for interacting with files on your computer, and `random` for generating random numbers, typically come automatically installed with Python.\n",
    "\n",
    "There are many popular freely available libraries available—like `pandas` for working with data tables, `matplotlib` for plotting, and `geopandas` for spatial data—that can help you do a lot with just a few lines of code.\n",
    "\n",
    "To include functions that are part of a library, we use `import` at the top of our script. For example, let's import a function for a random number generator, and use it to create our own [d20](https://en.wikipedia.org/wiki/Regular_icosahedron) dice rolling function."
   ]
  },
  {
   "cell_type": "code",
   "execution_count": 11,
   "metadata": {},
   "outputs": [
    {
     "name": "stdout",
     "output_type": "stream",
     "text": [
      "14\n"
     ]
    }
   ],
   "source": [
    "import random\n",
    "\n",
    "# Function to roll a 20-sided dice\n",
    "def roll_d20():\n",
    "    return random.randint(1, 20)\n",
    "\n",
    "# Simulate rolling the dice\n",
    "roll = roll_d20()\n",
    "print(roll)"
   ]
  },
  {
   "cell_type": "markdown",
   "metadata": {},
   "source": [
    "When using external libraries like `pandas`, we need to *install* the library before we can *import* and then use it. In Jupyter Notebook, we can do this by running `!pip install [name of library]`. If you are running Python in your command line, you can simply run `pip install [name of library]`\n",
    "\n",
    "If you don't already have `pip` installed on your computer, follow [these instructions](https://pip.pypa.io/en/stable/installation/). If you're still having trouble, try Googling your specific questions or asking a chatbot for step-by-step instructions!"
   ]
  }
 ],
 "metadata": {
  "kernelspec": {
   "display_name": "urb",
   "language": "python",
   "name": "python3"
  },
  "language_info": {
   "codemirror_mode": {
    "name": "ipython",
    "version": 3
   },
   "file_extension": ".py",
   "mimetype": "text/x-python",
   "name": "python",
   "nbconvert_exporter": "python",
   "pygments_lexer": "ipython3",
   "version": "3.13.0"
  }
 },
 "nbformat": 4,
 "nbformat_minor": 2
}
